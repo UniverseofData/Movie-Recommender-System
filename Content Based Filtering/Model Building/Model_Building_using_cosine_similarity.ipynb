{
 "cells": [
  {
   "cell_type": "markdown",
   "id": "e3b700dc",
   "metadata": {},
   "source": [
    "## CONTENT BASED RECOMENDERATION SYSTEM MODEL BUILDING USING COSINE SIMILLARITY\n",
    "> AUTHOR: YASHSHREE BAVISKAR\n",
    "\n",
    "    TEAM: 14"
   ]
  },
  {
   "cell_type": "code",
   "execution_count": 5,
   "id": "c06b583c-8b26-40f1-b5b7-2078ed447da4",
   "metadata": {
    "id": "c06b583c-8b26-40f1-b5b7-2078ed447da4"
   },
   "outputs": [],
   "source": [
    "import numpy as np # for numrical caluation analysis\n",
    "import pandas as pd # for data wrangling\n",
    "import warnings\n",
    "warnings.filterwarnings('ignore')"
   ]
  },
  {
   "cell_type": "code",
   "execution_count": 8,
   "id": "9286ea07-99a2-4fae-9a38-ae99e42ac882",
   "metadata": {
    "id": "9286ea07-99a2-4fae-9a38-ae99e42ac882"
   },
   "outputs": [],
   "source": [
    "df= pd.read_csv(\"Movies_Clean_data.csv\")"
   ]
  },
  {
   "cell_type": "code",
   "execution_count": 9,
   "id": "086cdc6b-c3ad-4c85-a6c8-804b10ed3021",
   "metadata": {
    "colab": {
     "base_uri": "https://localhost:8080/",
     "height": 206
    },
    "id": "086cdc6b-c3ad-4c85-a6c8-804b10ed3021",
    "outputId": "bd2c3ee3-1744-4f05-9b3e-318d8568898f"
   },
   "outputs": [
    {
     "data": {
      "text/html": [
       "\n",
       "  <div id=\"df-1685637c-98ef-406f-b419-5d1bfe5a6733\">\n",
       "    <div class=\"colab-df-container\">\n",
       "      <div>\n",
       "<style scoped>\n",
       "    .dataframe tbody tr th:only-of-type {\n",
       "        vertical-align: middle;\n",
       "    }\n",
       "\n",
       "    .dataframe tbody tr th {\n",
       "        vertical-align: top;\n",
       "    }\n",
       "\n",
       "    .dataframe thead th {\n",
       "        text-align: right;\n",
       "    }\n",
       "</style>\n",
       "<table border=\"1\" class=\"dataframe\">\n",
       "  <thead>\n",
       "    <tr style=\"text-align: right;\">\n",
       "      <th></th>\n",
       "      <th>Unnamed: 0</th>\n",
       "      <th>id</th>\n",
       "      <th>title</th>\n",
       "      <th>tags</th>\n",
       "    </tr>\n",
       "  </thead>\n",
       "  <tbody>\n",
       "    <tr>\n",
       "      <th>0</th>\n",
       "      <td>0</td>\n",
       "      <td>862</td>\n",
       "      <td>Toy Story</td>\n",
       "      <td>Led by Woody, Andy's toys live happily in his ...</td>\n",
       "    </tr>\n",
       "    <tr>\n",
       "      <th>1</th>\n",
       "      <td>1</td>\n",
       "      <td>8844</td>\n",
       "      <td>Jumanji</td>\n",
       "      <td>When siblings Judy and Peter discover an encha...</td>\n",
       "    </tr>\n",
       "    <tr>\n",
       "      <th>2</th>\n",
       "      <td>2</td>\n",
       "      <td>15602</td>\n",
       "      <td>Grumpier Old Men</td>\n",
       "      <td>A family wedding reignites the ancient feud be...</td>\n",
       "    </tr>\n",
       "    <tr>\n",
       "      <th>3</th>\n",
       "      <td>3</td>\n",
       "      <td>31357</td>\n",
       "      <td>Waiting to Exhale</td>\n",
       "      <td>Cheated on, mistreated and stepped on, the wom...</td>\n",
       "    </tr>\n",
       "    <tr>\n",
       "      <th>4</th>\n",
       "      <td>4</td>\n",
       "      <td>11862</td>\n",
       "      <td>Father of the Bride Part II</td>\n",
       "      <td>Just when George Banks has recovered from his ...</td>\n",
       "    </tr>\n",
       "  </tbody>\n",
       "</table>\n",
       "</div>\n",
       "      <button class=\"colab-df-convert\" onclick=\"convertToInteractive('df-1685637c-98ef-406f-b419-5d1bfe5a6733')\"\n",
       "              title=\"Convert this dataframe to an interactive table.\"\n",
       "              style=\"display:none;\">\n",
       "        \n",
       "  <svg xmlns=\"http://www.w3.org/2000/svg\" height=\"24px\"viewBox=\"0 0 24 24\"\n",
       "       width=\"24px\">\n",
       "    <path d=\"M0 0h24v24H0V0z\" fill=\"none\"/>\n",
       "    <path d=\"M18.56 5.44l.94 2.06.94-2.06 2.06-.94-2.06-.94-.94-2.06-.94 2.06-2.06.94zm-11 1L8.5 8.5l.94-2.06 2.06-.94-2.06-.94L8.5 2.5l-.94 2.06-2.06.94zm10 10l.94 2.06.94-2.06 2.06-.94-2.06-.94-.94-2.06-.94 2.06-2.06.94z\"/><path d=\"M17.41 7.96l-1.37-1.37c-.4-.4-.92-.59-1.43-.59-.52 0-1.04.2-1.43.59L10.3 9.45l-7.72 7.72c-.78.78-.78 2.05 0 2.83L4 21.41c.39.39.9.59 1.41.59.51 0 1.02-.2 1.41-.59l7.78-7.78 2.81-2.81c.8-.78.8-2.07 0-2.86zM5.41 20L4 18.59l7.72-7.72 1.47 1.35L5.41 20z\"/>\n",
       "  </svg>\n",
       "      </button>\n",
       "      \n",
       "  <style>\n",
       "    .colab-df-container {\n",
       "      display:flex;\n",
       "      flex-wrap:wrap;\n",
       "      gap: 12px;\n",
       "    }\n",
       "\n",
       "    .colab-df-convert {\n",
       "      background-color: #E8F0FE;\n",
       "      border: none;\n",
       "      border-radius: 50%;\n",
       "      cursor: pointer;\n",
       "      display: none;\n",
       "      fill: #1967D2;\n",
       "      height: 32px;\n",
       "      padding: 0 0 0 0;\n",
       "      width: 32px;\n",
       "    }\n",
       "\n",
       "    .colab-df-convert:hover {\n",
       "      background-color: #E2EBFA;\n",
       "      box-shadow: 0px 1px 2px rgba(60, 64, 67, 0.3), 0px 1px 3px 1px rgba(60, 64, 67, 0.15);\n",
       "      fill: #174EA6;\n",
       "    }\n",
       "\n",
       "    [theme=dark] .colab-df-convert {\n",
       "      background-color: #3B4455;\n",
       "      fill: #D2E3FC;\n",
       "    }\n",
       "\n",
       "    [theme=dark] .colab-df-convert:hover {\n",
       "      background-color: #434B5C;\n",
       "      box-shadow: 0px 1px 3px 1px rgba(0, 0, 0, 0.15);\n",
       "      filter: drop-shadow(0px 1px 2px rgba(0, 0, 0, 0.3));\n",
       "      fill: #FFFFFF;\n",
       "    }\n",
       "  </style>\n",
       "\n",
       "      <script>\n",
       "        const buttonEl =\n",
       "          document.querySelector('#df-1685637c-98ef-406f-b419-5d1bfe5a6733 button.colab-df-convert');\n",
       "        buttonEl.style.display =\n",
       "          google.colab.kernel.accessAllowed ? 'block' : 'none';\n",
       "\n",
       "        async function convertToInteractive(key) {\n",
       "          const element = document.querySelector('#df-1685637c-98ef-406f-b419-5d1bfe5a6733');\n",
       "          const dataTable =\n",
       "            await google.colab.kernel.invokeFunction('convertToInteractive',\n",
       "                                                     [key], {});\n",
       "          if (!dataTable) return;\n",
       "\n",
       "          const docLinkHtml = 'Like what you see? Visit the ' +\n",
       "            '<a target=\"_blank\" href=https://colab.research.google.com/notebooks/data_table.ipynb>data table notebook</a>'\n",
       "            + ' to learn more about interactive tables.';\n",
       "          element.innerHTML = '';\n",
       "          dataTable['output_type'] = 'display_data';\n",
       "          await google.colab.output.renderOutput(dataTable, element);\n",
       "          const docLink = document.createElement('div');\n",
       "          docLink.innerHTML = docLinkHtml;\n",
       "          element.appendChild(docLink);\n",
       "        }\n",
       "      </script>\n",
       "    </div>\n",
       "  </div>\n",
       "  "
      ],
      "text/plain": [
       "   Unnamed: 0     id                        title  \\\n",
       "0           0    862                    Toy Story   \n",
       "1           1   8844                      Jumanji   \n",
       "2           2  15602             Grumpier Old Men   \n",
       "3           3  31357            Waiting to Exhale   \n",
       "4           4  11862  Father of the Bride Part II   \n",
       "\n",
       "                                                tags  \n",
       "0  Led by Woody, Andy's toys live happily in his ...  \n",
       "1  When siblings Judy and Peter discover an encha...  \n",
       "2  A family wedding reignites the ancient feud be...  \n",
       "3  Cheated on, mistreated and stepped on, the wom...  \n",
       "4  Just when George Banks has recovered from his ...  "
      ]
     },
     "execution_count": 9,
     "metadata": {},
     "output_type": "execute_result"
    }
   ],
   "source": [
    "df.head(5)"
   ]
  },
  {
   "cell_type": "code",
   "execution_count": 10,
   "id": "0cfa23e0-8e38-4e65-b04c-d9243f0df3e7",
   "metadata": {
    "id": "0cfa23e0-8e38-4e65-b04c-d9243f0df3e7"
   },
   "outputs": [],
   "source": [
    "#Importing Required libraries\n",
    "import nltk\n",
    "import re\n",
    "import string\n",
    "from nltk.corpus import stopwords\n",
    "from nltk.tokenize import word_tokenize\n",
    "from nltk.stem import WordNetLemmatizer"
   ]
  },
  {
   "cell_type": "code",
   "execution_count": 11,
   "id": "-TaQRAiBglYq",
   "metadata": {
    "colab": {
     "base_uri": "https://localhost:8080/"
    },
    "id": "-TaQRAiBglYq",
    "outputId": "4a35c7cc-0d62-4a5b-86eb-98a68e4ae1ed"
   },
   "outputs": [
    {
     "name": "stderr",
     "output_type": "stream",
     "text": [
      "[nltk_data] Downloading package stopwords to /root/nltk_data...\n",
      "[nltk_data]   Package stopwords is already up-to-date!\n"
     ]
    },
    {
     "data": {
      "text/plain": [
       "True"
      ]
     },
     "execution_count": 11,
     "metadata": {},
     "output_type": "execute_result"
    }
   ],
   "source": [
    "import nltk\n",
    "nltk.download('stopwords')"
   ]
  },
  {
   "cell_type": "code",
   "execution_count": 12,
   "id": "6a2a5b0b-3579-4833-9af9-6efd9e1cc037",
   "metadata": {
    "id": "6a2a5b0b-3579-4833-9af9-6efd9e1cc037"
   },
   "outputs": [],
   "source": [
    "#Defining the stop words\n",
    "stop_words = stopwords.words('english')\n",
    "\n",
    "#Defining the lemmatizer\n",
    "lemmatizer = WordNetLemmatizer()"
   ]
  },
  {
   "cell_type": "code",
   "execution_count": 13,
   "id": "4b223bc3-3ca6-46e7-9460-39ef3aa39d74",
   "metadata": {
    "id": "4b223bc3-3ca6-46e7-9460-39ef3aa39d74"
   },
   "outputs": [],
   "source": [
    "#Function Definition for using regex operations and \n",
    "## other text preprocessing for getting cleaned texts\n",
    "def clean_comments(text):\n",
    "    \n",
    "    #convert to lower case\n",
    "    lowered_text = text.lower()\n",
    "    \n",
    "    #Removing Punctuations\n",
    "    text = re.sub(r'[^\\w\\s]', ' ', text)\n",
    "    text = re.sub(r'\\_',' ',text)\n",
    "    \n",
    "    #Removing all the non-ascii characters \n",
    "    clean_words = re.sub(r'[^\\x00-\\x7f]',r'', text)\n",
    "    \n",
    "    #Removing the unwanted white spaces\n",
    "    text = \" \".join(text.split()) \n",
    "    \n",
    "    #Splitting data into words\n",
    "    tokenized_text = word_tokenize(text)\n",
    "    \n",
    "    #Removing remaining tokens that are not alphabetic, \n",
    "    #Removing stop words and Lemmatizing the text\n",
    "    removed_stop_text = [lemmatizer.lemmatize(word) for word \n",
    "                         in tokenized_text \n",
    "                         if word not in stop_words if word.isalpha()]\n",
    "   \n",
    "    return \" \".join(removed_stop_text)"
   ]
  },
  {
   "cell_type": "code",
   "execution_count": 14,
   "id": "P4n-eAEqgzy5",
   "metadata": {
    "colab": {
     "base_uri": "https://localhost:8080/"
    },
    "id": "P4n-eAEqgzy5",
    "outputId": "e6934ee0-906c-40db-addd-3930de3b197f"
   },
   "outputs": [
    {
     "name": "stderr",
     "output_type": "stream",
     "text": [
      "[nltk_data] Downloading package punkt to /root/nltk_data...\n",
      "[nltk_data]   Package punkt is already up-to-date!\n"
     ]
    },
    {
     "data": {
      "text/plain": [
       "True"
      ]
     },
     "execution_count": 14,
     "metadata": {},
     "output_type": "execute_result"
    }
   ],
   "source": [
    ">>> import nltk\n",
    ">>> nltk.download('punkt')"
   ]
  },
  {
   "cell_type": "code",
   "execution_count": 15,
   "id": "Lq17Kb4dg6EJ",
   "metadata": {
    "colab": {
     "base_uri": "https://localhost:8080/"
    },
    "id": "Lq17Kb4dg6EJ",
    "outputId": "b05441fc-6cde-4ce6-c504-551f1daca5b5"
   },
   "outputs": [
    {
     "name": "stderr",
     "output_type": "stream",
     "text": [
      "[nltk_data] Downloading package wordnet to /root/nltk_data...\n",
      "[nltk_data]   Package wordnet is already up-to-date!\n"
     ]
    },
    {
     "data": {
      "text/plain": [
       "True"
      ]
     },
     "execution_count": 15,
     "metadata": {},
     "output_type": "execute_result"
    }
   ],
   "source": [
    ">>> import nltk\n",
    ">>> nltk.download('wordnet')"
   ]
  },
  {
   "cell_type": "code",
   "execution_count": 16,
   "id": "446RtFNEhCxo",
   "metadata": {
    "colab": {
     "base_uri": "https://localhost:8080/"
    },
    "id": "446RtFNEhCxo",
    "outputId": "96736f50-1567-4159-ec78-dac5a82774ff"
   },
   "outputs": [
    {
     "name": "stderr",
     "output_type": "stream",
     "text": [
      "[nltk_data] Downloading package omw-1.4 to /root/nltk_data...\n",
      "[nltk_data]   Package omw-1.4 is already up-to-date!\n"
     ]
    },
    {
     "data": {
      "text/plain": [
       "True"
      ]
     },
     "execution_count": 16,
     "metadata": {},
     "output_type": "execute_result"
    }
   ],
   "source": [
    ">>> import nltk\n",
    ">>> nltk.download('omw-1.4')"
   ]
  },
  {
   "cell_type": "code",
   "execution_count": 17,
   "id": "fd315d45-979f-40f1-8eed-58ddceac96f3",
   "metadata": {
    "colab": {
     "base_uri": "https://localhost:8080/"
    },
    "id": "fd315d45-979f-40f1-8eed-58ddceac96f3",
    "outputId": "0952a37a-10fe-443c-9070-a3e602bc2715"
   },
   "outputs": [
    {
     "data": {
      "text/plain": [
       "0    Led Woody Andy toy live happily room Andy birt...\n",
       "1    When sibling Judy Peter discover enchanted boa...\n",
       "2    A family wedding reignites ancient feud next d...\n",
       "3    Cheated mistreated stepped woman holding breat...\n",
       "4    Just George Banks recovered daughter wedding r...\n",
       "Name: tags, dtype: object"
      ]
     },
     "execution_count": 17,
     "metadata": {},
     "output_type": "execute_result"
    }
   ],
   "source": [
    "# Calling the above function for the column comment_text in training dataset to replace original with cleaned text\n",
    "df['tags'] = df['tags'].apply(clean_comments)\n",
    "df['tags'].head()"
   ]
  },
  {
   "cell_type": "code",
   "execution_count": 18,
   "id": "ddc4d879-eb9f-42ee-801f-37ea06c09a1b",
   "metadata": {
    "id": "ddc4d879-eb9f-42ee-801f-37ea06c09a1b"
   },
   "outputs": [],
   "source": [
    "df['tags'] = df['tags'].str.lower()"
   ]
  },
  {
   "cell_type": "code",
   "execution_count": 19,
   "id": "44fe0e85-40cf-42f6-bde5-eaf48bbcef6b",
   "metadata": {
    "id": "44fe0e85-40cf-42f6-bde5-eaf48bbcef6b"
   },
   "outputs": [],
   "source": [
    "from sklearn.feature_extraction.text import CountVectorizer, TfidfVectorizer"
   ]
  },
  {
   "cell_type": "code",
   "execution_count": 20,
   "id": "6f79ec26-fd1a-4328-8566-573ae5769977",
   "metadata": {
    "id": "6f79ec26-fd1a-4328-8566-573ae5769977"
   },
   "outputs": [],
   "source": [
    "tf = TfidfVectorizer(max_features=3000,stop_words='english')\n",
    "#features = tf.fit_transform(df['tags'])"
   ]
  },
  {
   "cell_type": "code",
   "execution_count": 21,
   "id": "181c7e45-c001-4ea5-8de7-c87d77eda870",
   "metadata": {
    "id": "181c7e45-c001-4ea5-8de7-c87d77eda870"
   },
   "outputs": [],
   "source": [
    "Count_Vector = tf.fit_transform(df['tags']).toarray()"
   ]
  },
  {
   "cell_type": "code",
   "execution_count": 22,
   "id": "17f68c1d-dd80-4104-abd4-a4b91a1d34c7",
   "metadata": {
    "id": "17f68c1d-dd80-4104-abd4-a4b91a1d34c7"
   },
   "outputs": [],
   "source": [
    "from sklearn.feature_extraction.text import CountVectorizer\n",
    "C_Vector = CountVectorizer(max_features=3000,stop_words='english')"
   ]
  },
  {
   "cell_type": "code",
   "execution_count": 23,
   "id": "e9a28752-d3f9-457e-befe-37aab7876f62",
   "metadata": {
    "id": "e9a28752-d3f9-457e-befe-37aab7876f62"
   },
   "outputs": [],
   "source": [
    "Count_Vector = C_Vector.fit_transform(df['tags']).toarray()"
   ]
  },
  {
   "cell_type": "code",
   "execution_count": 24,
   "id": "ce5f35b6-c960-4efa-a80d-a863ad3705b6",
   "metadata": {
    "colab": {
     "base_uri": "https://localhost:8080/"
    },
    "id": "ce5f35b6-c960-4efa-a80d-a863ad3705b6",
    "outputId": "977dc679-9974-4c7e-e3cf-f54cfc8f0b26"
   },
   "outputs": [
    {
     "data": {
      "text/plain": [
       "(18365, 3000)"
      ]
     },
     "execution_count": 24,
     "metadata": {},
     "output_type": "execute_result"
    }
   ],
   "source": [
    "Count_Vector.shape"
   ]
  },
  {
   "cell_type": "markdown",
   "id": "449dabac",
   "metadata": {},
   "source": [
    "#### Using cosine Similarity Building the model for `Content Based Recommendation System`"
   ]
  },
  {
   "cell_type": "code",
   "execution_count": 25,
   "id": "561a003e-e827-4697-93d3-cec0801bcab9",
   "metadata": {
    "id": "561a003e-e827-4697-93d3-cec0801bcab9"
   },
   "outputs": [],
   "source": [
    "from sklearn.metrics.pairwise import cosine_similarity"
   ]
  },
  {
   "cell_type": "code",
   "execution_count": 26,
   "id": "4dcd7f9d-1657-491d-9f3b-621aedb8300c",
   "metadata": {
    "id": "4dcd7f9d-1657-491d-9f3b-621aedb8300c"
   },
   "outputs": [],
   "source": [
    "similarity = cosine_similarity(Count_Vector)"
   ]
  },
  {
   "cell_type": "code",
   "execution_count": 27,
   "id": "d3118783-53cc-4638-9fc6-d47263f7b957",
   "metadata": {
    "colab": {
     "base_uri": "https://localhost:8080/"
    },
    "id": "d3118783-53cc-4638-9fc6-d47263f7b957",
    "outputId": "e0e9c7e8-b49b-4f4f-ccaf-c59fe5bc640c"
   },
   "outputs": [
    {
     "data": {
      "text/plain": [
       "array([[1.        , 0.04445542, 0.04783649, ..., 0.0347524 , 0.01843024,\n",
       "        0.        ],\n",
       "       [0.04445542, 1.        , 0.0733674 , ..., 0.07106691, 0.        ,\n",
       "        0.        ],\n",
       "       [0.04783649, 0.0733674 , 1.        , ..., 0.        , 0.02027768,\n",
       "        0.        ],\n",
       "       ...,\n",
       "       [0.0347524 , 0.07106691, 0.        , ..., 1.        , 0.11785113,\n",
       "        0.        ],\n",
       "       [0.01843024, 0.        , 0.02027768, ..., 0.11785113, 1.        ,\n",
       "        0.        ],\n",
       "       [0.        , 0.        , 0.        , ..., 0.        , 0.        ,\n",
       "        1.        ]])"
      ]
     },
     "execution_count": 27,
     "metadata": {},
     "output_type": "execute_result"
    }
   ],
   "source": [
    "similarity"
   ]
  },
  {
   "cell_type": "markdown",
   "id": "94b5a36b",
   "metadata": {},
   "source": [
    "##  Showing Recomendations of Movies"
   ]
  },
  {
   "cell_type": "code",
   "execution_count": 28,
   "id": "95709a76-ff9d-422d-bd8e-3509f3b030d9",
   "metadata": {
    "id": "95709a76-ff9d-422d-bd8e-3509f3b030d9"
   },
   "outputs": [],
   "source": [
    "def recommend(movie):\n",
    "    index = df[df['title'] == movie].index[0]\n",
    "    distances = sorted(list(enumerate(similarity[index])),reverse=True,key = lambda x: x[1])\n",
    "    for i in distances[1:6]:\n",
    "        print(df.iloc[i[0]].title)"
   ]
  },
  {
   "cell_type": "code",
   "execution_count": 29,
   "id": "5d6a4aca-d9c1-4568-a46a-b4fb7fc2f5dc",
   "metadata": {
    "colab": {
     "base_uri": "https://localhost:8080/"
    },
    "id": "5d6a4aca-d9c1-4568-a46a-b4fb7fc2f5dc",
    "outputId": "dc41cf5b-3e01-440f-f062-738ef32f2d8f"
   },
   "outputs": [
    {
     "name": "stdout",
     "output_type": "stream",
     "text": [
      "Toy Story 3\n",
      "Toy Story 2\n",
      "The Champ\n",
      "The 40 Year Old Virgin\n",
      "The Toy\n"
     ]
    }
   ],
   "source": [
    "recommend('Toy Story')"
   ]
  },
  {
   "cell_type": "code",
   "execution_count": 30,
   "id": "7c928d54-2ea0-48f5-81e4-0d5c2cc9dc82",
   "metadata": {
    "colab": {
     "base_uri": "https://localhost:8080/"
    },
    "id": "7c928d54-2ea0-48f5-81e4-0d5c2cc9dc82",
    "outputId": "214af4a2-540b-444c-a8dc-13efabd87d05"
   },
   "outputs": [
    {
     "name": "stdout",
     "output_type": "stream",
     "text": [
      "An American Werewolf in London\n",
      "An American Werewolf in Paris\n",
      "Blood and Chocolate\n",
      "Dark Wolf\n",
      "Werewolf of London\n"
     ]
    }
   ],
   "source": [
    "recommend('The Wolfman')"
   ]
  },
  {
   "cell_type": "code",
   "execution_count": 31,
   "id": "4f14ab13-1d96-4fb8-8c10-92d425d2d2a2",
   "metadata": {
    "id": "4f14ab13-1d96-4fb8-8c10-92d425d2d2a2"
   },
   "outputs": [],
   "source": [
    "import pickle"
   ]
  },
  {
   "cell_type": "code",
   "execution_count": 34,
   "id": "lu5xX6T8mvk4",
   "metadata": {
    "id": "lu5xX6T8mvk4"
   },
   "outputs": [],
   "source": [
    "pickle.dump(similarity,open(\"similarity_tf.pkl\", 'wb'), protocol=pickle.HIGHEST_PROTOCOL)"
   ]
  },
  {
   "cell_type": "code",
   "execution_count": 35,
   "id": "abe983e4-39fd-446a-93d8-4ff6af3dc51a",
   "metadata": {
    "colab": {
     "base_uri": "https://localhost:8080/"
    },
    "id": "abe983e4-39fd-446a-93d8-4ff6af3dc51a",
    "outputId": "26fa6f41-9871-4f69-a064-c9753d69c4b7"
   },
   "outputs": [
    {
     "name": "stdout",
     "output_type": "stream",
     "text": [
      "2698185963\n"
     ]
    }
   ],
   "source": [
    "import os\n",
    "\n",
    "print(os.path.getsize(\"similarity_tf.pkl\"))"
   ]
  },
  {
   "cell_type": "code",
   "execution_count": 36,
   "id": "7H6C_Utvm5f1",
   "metadata": {
    "colab": {
     "base_uri": "https://localhost:8080/"
    },
    "id": "7H6C_Utvm5f1",
    "outputId": "0f14de26-8353-4950-db59-ad5ead0a0946"
   },
   "outputs": [
    {
     "name": "stdout",
     "output_type": "stream",
     "text": [
      "2698185963\n"
     ]
    }
   ],
   "source": [
    "import os\n",
    "\n",
    "print(os.path.getsize(\"similarity_tf.pkl\"))"
   ]
  },
  {
   "cell_type": "code",
   "execution_count": 37,
   "id": "r2eBLqUBm9Rd",
   "metadata": {
    "id": "r2eBLqUBm9Rd"
   },
   "outputs": [],
   "source": [
    "import gzip"
   ]
  },
  {
   "cell_type": "code",
   "execution_count": 38,
   "id": "uOiWyC89nA5Z",
   "metadata": {
    "id": "uOiWyC89nA5Z"
   },
   "outputs": [],
   "source": [
    "pickle.dump(similarity, gzip.open(\"similarity_gzip.pkl\", 'wb'), protocol=pickle.HIGHEST_PROTOCOL)"
   ]
  },
  {
   "cell_type": "code",
   "execution_count": 39,
   "id": "UtVXaGtYnEb1",
   "metadata": {
    "colab": {
     "base_uri": "https://localhost:8080/"
    },
    "id": "UtVXaGtYnEb1",
    "outputId": "1536d118-1c0a-4333-a283-91da87a1fc64"
   },
   "outputs": [
    {
     "name": "stdout",
     "output_type": "stream",
     "text": [
      "527803340\n"
     ]
    }
   ],
   "source": [
    "print(os.path.getsize(\"similarity_gzip.pkl\"))"
   ]
  },
  {
   "cell_type": "code",
   "execution_count": 40,
   "id": "EL_ic5blnHrf",
   "metadata": {
    "colab": {
     "base_uri": "https://localhost:8080/"
    },
    "id": "EL_ic5blnHrf",
    "outputId": "707612f7-f75f-4a6e-eed5-912fb260d949"
   },
   "outputs": [
    {
     "name": "stdout",
     "output_type": "stream",
     "text": [
      "Looking in indexes: https://pypi.org/simple, https://us-python.pkg.dev/colab-wheels/public/simple/\n",
      "Collecting bz2file\n",
      "  Downloading bz2file-0.98.tar.gz (11 kB)\n",
      "Building wheels for collected packages: bz2file\n",
      "  Building wheel for bz2file (setup.py) ... \u001b[?25l\u001b[?25hdone\n",
      "  Created wheel for bz2file: filename=bz2file-0.98-py3-none-any.whl size=6882 sha256=9c27e1dc7e8d0ffaf527c0f8781cf0f932e917debbb743ceb013669e8929202b\n",
      "  Stored in directory: /root/.cache/pip/wheels/85/ce/8d/b5f76b602b16a8a39f2ded74189cf5f09fc4a87bea16c54a8b\n",
      "Successfully built bz2file\n",
      "Installing collected packages: bz2file\n",
      "Successfully installed bz2file-0.98\n"
     ]
    }
   ],
   "source": [
    "!pip install bz2file"
   ]
  },
  {
   "cell_type": "markdown",
   "id": "b17289b5",
   "metadata": {},
   "source": [
    "### compressing the file"
   ]
  },
  {
   "cell_type": "code",
   "execution_count": 41,
   "id": "WUkuh9qQnJQO",
   "metadata": {
    "id": "WUkuh9qQnJQO"
   },
   "outputs": [],
   "source": [
    "import bz2file as bz2"
   ]
  },
  {
   "cell_type": "code",
   "execution_count": 42,
   "id": "M-OGmGPZnN8d",
   "metadata": {
    "colab": {
     "base_uri": "https://localhost:8080/"
    },
    "id": "M-OGmGPZnN8d",
    "outputId": "6e50c3cb-c1b4-4085-a3bd-8cf9cd739bf1"
   },
   "outputs": [
    {
     "name": "stdout",
     "output_type": "stream",
     "text": [
      "426177591\n"
     ]
    }
   ],
   "source": [
    "ofile = bz2.BZ2File(\"BinaryData\",'wb')\n",
    "pickle.dump(similarity,ofile)\n",
    "ofile.close()\n",
    " \n",
    "print(os.path.getsize(\"BinaryData\"))"
   ]
  },
  {
   "cell_type": "code",
   "execution_count": 44,
   "id": "hqvrBdN4nQ4U",
   "metadata": {
    "id": "hqvrBdN4nQ4U"
   },
   "outputs": [],
   "source": [
    "ifile = bz2.BZ2File(\"BinaryData\",'rb')\n",
    "newdata = pickle.load(ifile)\n",
    "ifile.close()"
   ]
  },
  {
   "cell_type": "code",
   "execution_count": 45,
   "id": "1ScMQ8IKndyv",
   "metadata": {
    "id": "1ScMQ8IKndyv"
   },
   "outputs": [],
   "source": [
    "import joblib"
   ]
  },
  {
   "cell_type": "code",
   "execution_count": 46,
   "id": "4r1TJvCxnjnE",
   "metadata": {
    "colab": {
     "base_uri": "https://localhost:8080/"
    },
    "id": "4r1TJvCxnjnE",
    "outputId": "54e42f49-6cd7-4f8a-af15-a6fd954638fd"
   },
   "outputs": [
    {
     "data": {
      "text/plain": [
       "['similarity_jlib']"
      ]
     },
     "execution_count": 46,
     "metadata": {},
     "output_type": "execute_result"
    }
   ],
   "source": [
    "joblib.dump(similarity, \"similarity_jlib\")"
   ]
  },
  {
   "cell_type": "markdown",
   "id": "a9bd170d",
   "metadata": {},
   "source": [
    "------------------------------------------------------------------------------------------------------------------------"
   ]
  },
  {
   "cell_type": "markdown",
   "id": "5a8b750d",
   "metadata": {},
   "source": [
    "## References:\n",
    "    \n",
    "1. [Stopwords](http://127.0.0.1:8888/?token=00cc485df8bac526527b36628642f159eed2a4b961b29752)\n",
    "2. [Lemmatization](https://en.wikipedia.org/wiki/Lemmatisation)\n",
    "3. [TFIDF Vectorization](https://en.wikipedia.org/wiki/Tf%E2%80%93idf)\n",
    "4. [Cosine Similarity](https://en.wikipedia.org/wiki/Cosine_similarity)"
   ]
  }
 ],
 "metadata": {
  "colab": {
   "history_visible": true,
   "provenance": []
  },
  "kernelspec": {
   "display_name": "Python 3 (ipykernel)",
   "language": "python",
   "name": "python3"
  },
  "language_info": {
   "codemirror_mode": {
    "name": "ipython",
    "version": 3
   },
   "file_extension": ".py",
   "mimetype": "text/x-python",
   "name": "python",
   "nbconvert_exporter": "python",
   "pygments_lexer": "ipython3",
   "version": "3.9.12"
  }
 },
 "nbformat": 4,
 "nbformat_minor": 5
}
