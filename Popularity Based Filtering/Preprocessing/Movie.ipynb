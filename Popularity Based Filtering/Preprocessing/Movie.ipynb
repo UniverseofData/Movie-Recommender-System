{
  "nbformat": 4,
  "nbformat_minor": 0,
  "metadata": {
    "colab": {
      "provenance": []
    },
    "kernelspec": {
      "name": "python3",
      "display_name": "Python 3"
    },
    "language_info": {
      "name": "python"
    }
  },
  "cells": [
    {
      "cell_type": "code",
      "execution_count": 39,
      "metadata": {
        "id": "bAaqjMvWKb_9"
      },
      "outputs": [],
      "source": [
        "%matplotlib inline\n",
        "import pandas as pd\n",
        "import numpy as np\n",
        "from ast import literal_eval\n",
        "import matplotlib.pyplot as plt\n",
        "import seaborn as sns\n",
        "from sklearn.feature_extraction.text import CountVectorizer\n",
        "from sklearn.metrics.pairwise import cosine_similarity"
      ]
    },
    {
      "cell_type": "code",
      "source": [
        "data = pd.read_csv(\"/content/Movie_metadata.csv\",engine='python')"
      ],
      "metadata": {
        "id": "Jc_-OWrAKnW1"
      },
      "execution_count": 40,
      "outputs": []
    },
    {
      "cell_type": "code",
      "source": [
        "data.head(5)"
      ],
      "metadata": {
        "colab": {
          "base_uri": "https://localhost:8080/",
          "height": 751
        },
        "id": "Ke2CHOlKP0Ll",
        "outputId": "a8d5e449-d4d5-4f6d-83b8-3a3c554d5493"
      },
      "execution_count": 41,
      "outputs": [
        {
          "output_type": "execute_result",
          "data": {
            "text/plain": [
              "   adult                              belongs_to_collection    budget  \\\n",
              "0  False  {'id': 10194, 'name': 'Toy Story Collection', ...  30000000   \n",
              "1  False                                                NaN  65000000   \n",
              "2  False  {'id': 119050, 'name': 'Grumpy Old Men Collect...         0   \n",
              "3  False                                                NaN  16000000   \n",
              "4  False  {'id': 96871, 'name': 'Father of the Bride Col...         0   \n",
              "\n",
              "                                              genres  \\\n",
              "0  [{'id': 16, 'name': 'Animation'}, {'id': 35, '...   \n",
              "1  [{'id': 12, 'name': 'Adventure'}, {'id': 14, '...   \n",
              "2  [{'id': 10749, 'name': 'Romance'}, {'id': 35, ...   \n",
              "3  [{'id': 35, 'name': 'Comedy'}, {'id': 18, 'nam...   \n",
              "4                     [{'id': 35, 'name': 'Comedy'}]   \n",
              "\n",
              "                               homepage     id    imdb_id original_language  \\\n",
              "0  http://toystory.disney.com/toy-story    862  tt0114709                en   \n",
              "1                                   NaN   8844  tt0113497                en   \n",
              "2                                   NaN  15602  tt0113228                en   \n",
              "3                                   NaN  31357  tt0114885                en   \n",
              "4                                   NaN  11862  tt0113041                en   \n",
              "\n",
              "                original_title  \\\n",
              "0                    Toy Story   \n",
              "1                      Jumanji   \n",
              "2             Grumpier Old Men   \n",
              "3            Waiting to Exhale   \n",
              "4  Father of the Bride Part II   \n",
              "\n",
              "                                            overview  ... release_date  \\\n",
              "0  Led by Woody, Andy's toys live happily in his ...  ...   1995-10-30   \n",
              "1  When siblings Judy and Peter discover an encha...  ...   1995-12-15   \n",
              "2  A family wedding reignites the ancient feud be...  ...   1995-12-22   \n",
              "3  Cheated on, mistreated and stepped on, the wom...  ...   1995-12-22   \n",
              "4  Just when George Banks has recovered from his ...  ...   1995-02-10   \n",
              "\n",
              "       revenue runtime                                   spoken_languages  \\\n",
              "0  373554033.0    81.0           [{'iso_639_1': 'en', 'name': 'English'}]   \n",
              "1  262797249.0   104.0  [{'iso_639_1': 'en', 'name': 'English'}, {'iso...   \n",
              "2          0.0   101.0           [{'iso_639_1': 'en', 'name': 'English'}]   \n",
              "3   81452156.0   127.0           [{'iso_639_1': 'en', 'name': 'English'}]   \n",
              "4   76578911.0   106.0           [{'iso_639_1': 'en', 'name': 'English'}]   \n",
              "\n",
              "     status                                            tagline  \\\n",
              "0  Released                                                NaN   \n",
              "1  Released          Roll the dice and unleash the excitement!   \n",
              "2  Released  Still Yelling. Still Fighting. Still Ready for...   \n",
              "3  Released  Friends are the people who let you be yourself...   \n",
              "4  Released  Just When His World Is Back To Normal... He's ...   \n",
              "\n",
              "                         title  video vote_average vote_count  \n",
              "0                    Toy Story  False          7.7     5415.0  \n",
              "1                      Jumanji  False          6.9     2413.0  \n",
              "2             Grumpier Old Men  False          6.5       92.0  \n",
              "3            Waiting to Exhale  False          6.1       34.0  \n",
              "4  Father of the Bride Part II  False          5.7      173.0  \n",
              "\n",
              "[5 rows x 24 columns]"
            ],
            "text/html": [
              "\n",
              "  <div id=\"df-e1a61efa-d653-4e3f-a7c0-b6458993017d\">\n",
              "    <div class=\"colab-df-container\">\n",
              "      <div>\n",
              "<style scoped>\n",
              "    .dataframe tbody tr th:only-of-type {\n",
              "        vertical-align: middle;\n",
              "    }\n",
              "\n",
              "    .dataframe tbody tr th {\n",
              "        vertical-align: top;\n",
              "    }\n",
              "\n",
              "    .dataframe thead th {\n",
              "        text-align: right;\n",
              "    }\n",
              "</style>\n",
              "<table border=\"1\" class=\"dataframe\">\n",
              "  <thead>\n",
              "    <tr style=\"text-align: right;\">\n",
              "      <th></th>\n",
              "      <th>adult</th>\n",
              "      <th>belongs_to_collection</th>\n",
              "      <th>budget</th>\n",
              "      <th>genres</th>\n",
              "      <th>homepage</th>\n",
              "      <th>id</th>\n",
              "      <th>imdb_id</th>\n",
              "      <th>original_language</th>\n",
              "      <th>original_title</th>\n",
              "      <th>overview</th>\n",
              "      <th>...</th>\n",
              "      <th>release_date</th>\n",
              "      <th>revenue</th>\n",
              "      <th>runtime</th>\n",
              "      <th>spoken_languages</th>\n",
              "      <th>status</th>\n",
              "      <th>tagline</th>\n",
              "      <th>title</th>\n",
              "      <th>video</th>\n",
              "      <th>vote_average</th>\n",
              "      <th>vote_count</th>\n",
              "    </tr>\n",
              "  </thead>\n",
              "  <tbody>\n",
              "    <tr>\n",
              "      <th>0</th>\n",
              "      <td>False</td>\n",
              "      <td>{'id': 10194, 'name': 'Toy Story Collection', ...</td>\n",
              "      <td>30000000</td>\n",
              "      <td>[{'id': 16, 'name': 'Animation'}, {'id': 35, '...</td>\n",
              "      <td>http://toystory.disney.com/toy-story</td>\n",
              "      <td>862</td>\n",
              "      <td>tt0114709</td>\n",
              "      <td>en</td>\n",
              "      <td>Toy Story</td>\n",
              "      <td>Led by Woody, Andy's toys live happily in his ...</td>\n",
              "      <td>...</td>\n",
              "      <td>1995-10-30</td>\n",
              "      <td>373554033.0</td>\n",
              "      <td>81.0</td>\n",
              "      <td>[{'iso_639_1': 'en', 'name': 'English'}]</td>\n",
              "      <td>Released</td>\n",
              "      <td>NaN</td>\n",
              "      <td>Toy Story</td>\n",
              "      <td>False</td>\n",
              "      <td>7.7</td>\n",
              "      <td>5415.0</td>\n",
              "    </tr>\n",
              "    <tr>\n",
              "      <th>1</th>\n",
              "      <td>False</td>\n",
              "      <td>NaN</td>\n",
              "      <td>65000000</td>\n",
              "      <td>[{'id': 12, 'name': 'Adventure'}, {'id': 14, '...</td>\n",
              "      <td>NaN</td>\n",
              "      <td>8844</td>\n",
              "      <td>tt0113497</td>\n",
              "      <td>en</td>\n",
              "      <td>Jumanji</td>\n",
              "      <td>When siblings Judy and Peter discover an encha...</td>\n",
              "      <td>...</td>\n",
              "      <td>1995-12-15</td>\n",
              "      <td>262797249.0</td>\n",
              "      <td>104.0</td>\n",
              "      <td>[{'iso_639_1': 'en', 'name': 'English'}, {'iso...</td>\n",
              "      <td>Released</td>\n",
              "      <td>Roll the dice and unleash the excitement!</td>\n",
              "      <td>Jumanji</td>\n",
              "      <td>False</td>\n",
              "      <td>6.9</td>\n",
              "      <td>2413.0</td>\n",
              "    </tr>\n",
              "    <tr>\n",
              "      <th>2</th>\n",
              "      <td>False</td>\n",
              "      <td>{'id': 119050, 'name': 'Grumpy Old Men Collect...</td>\n",
              "      <td>0</td>\n",
              "      <td>[{'id': 10749, 'name': 'Romance'}, {'id': 35, ...</td>\n",
              "      <td>NaN</td>\n",
              "      <td>15602</td>\n",
              "      <td>tt0113228</td>\n",
              "      <td>en</td>\n",
              "      <td>Grumpier Old Men</td>\n",
              "      <td>A family wedding reignites the ancient feud be...</td>\n",
              "      <td>...</td>\n",
              "      <td>1995-12-22</td>\n",
              "      <td>0.0</td>\n",
              "      <td>101.0</td>\n",
              "      <td>[{'iso_639_1': 'en', 'name': 'English'}]</td>\n",
              "      <td>Released</td>\n",
              "      <td>Still Yelling. Still Fighting. Still Ready for...</td>\n",
              "      <td>Grumpier Old Men</td>\n",
              "      <td>False</td>\n",
              "      <td>6.5</td>\n",
              "      <td>92.0</td>\n",
              "    </tr>\n",
              "    <tr>\n",
              "      <th>3</th>\n",
              "      <td>False</td>\n",
              "      <td>NaN</td>\n",
              "      <td>16000000</td>\n",
              "      <td>[{'id': 35, 'name': 'Comedy'}, {'id': 18, 'nam...</td>\n",
              "      <td>NaN</td>\n",
              "      <td>31357</td>\n",
              "      <td>tt0114885</td>\n",
              "      <td>en</td>\n",
              "      <td>Waiting to Exhale</td>\n",
              "      <td>Cheated on, mistreated and stepped on, the wom...</td>\n",
              "      <td>...</td>\n",
              "      <td>1995-12-22</td>\n",
              "      <td>81452156.0</td>\n",
              "      <td>127.0</td>\n",
              "      <td>[{'iso_639_1': 'en', 'name': 'English'}]</td>\n",
              "      <td>Released</td>\n",
              "      <td>Friends are the people who let you be yourself...</td>\n",
              "      <td>Waiting to Exhale</td>\n",
              "      <td>False</td>\n",
              "      <td>6.1</td>\n",
              "      <td>34.0</td>\n",
              "    </tr>\n",
              "    <tr>\n",
              "      <th>4</th>\n",
              "      <td>False</td>\n",
              "      <td>{'id': 96871, 'name': 'Father of the Bride Col...</td>\n",
              "      <td>0</td>\n",
              "      <td>[{'id': 35, 'name': 'Comedy'}]</td>\n",
              "      <td>NaN</td>\n",
              "      <td>11862</td>\n",
              "      <td>tt0113041</td>\n",
              "      <td>en</td>\n",
              "      <td>Father of the Bride Part II</td>\n",
              "      <td>Just when George Banks has recovered from his ...</td>\n",
              "      <td>...</td>\n",
              "      <td>1995-02-10</td>\n",
              "      <td>76578911.0</td>\n",
              "      <td>106.0</td>\n",
              "      <td>[{'iso_639_1': 'en', 'name': 'English'}]</td>\n",
              "      <td>Released</td>\n",
              "      <td>Just When His World Is Back To Normal... He's ...</td>\n",
              "      <td>Father of the Bride Part II</td>\n",
              "      <td>False</td>\n",
              "      <td>5.7</td>\n",
              "      <td>173.0</td>\n",
              "    </tr>\n",
              "  </tbody>\n",
              "</table>\n",
              "<p>5 rows × 24 columns</p>\n",
              "</div>\n",
              "      <button class=\"colab-df-convert\" onclick=\"convertToInteractive('df-e1a61efa-d653-4e3f-a7c0-b6458993017d')\"\n",
              "              title=\"Convert this dataframe to an interactive table.\"\n",
              "              style=\"display:none;\">\n",
              "        \n",
              "  <svg xmlns=\"http://www.w3.org/2000/svg\" height=\"24px\"viewBox=\"0 0 24 24\"\n",
              "       width=\"24px\">\n",
              "    <path d=\"M0 0h24v24H0V0z\" fill=\"none\"/>\n",
              "    <path d=\"M18.56 5.44l.94 2.06.94-2.06 2.06-.94-2.06-.94-.94-2.06-.94 2.06-2.06.94zm-11 1L8.5 8.5l.94-2.06 2.06-.94-2.06-.94L8.5 2.5l-.94 2.06-2.06.94zm10 10l.94 2.06.94-2.06 2.06-.94-2.06-.94-.94-2.06-.94 2.06-2.06.94z\"/><path d=\"M17.41 7.96l-1.37-1.37c-.4-.4-.92-.59-1.43-.59-.52 0-1.04.2-1.43.59L10.3 9.45l-7.72 7.72c-.78.78-.78 2.05 0 2.83L4 21.41c.39.39.9.59 1.41.59.51 0 1.02-.2 1.41-.59l7.78-7.78 2.81-2.81c.8-.78.8-2.07 0-2.86zM5.41 20L4 18.59l7.72-7.72 1.47 1.35L5.41 20z\"/>\n",
              "  </svg>\n",
              "      </button>\n",
              "      \n",
              "  <style>\n",
              "    .colab-df-container {\n",
              "      display:flex;\n",
              "      flex-wrap:wrap;\n",
              "      gap: 12px;\n",
              "    }\n",
              "\n",
              "    .colab-df-convert {\n",
              "      background-color: #E8F0FE;\n",
              "      border: none;\n",
              "      border-radius: 50%;\n",
              "      cursor: pointer;\n",
              "      display: none;\n",
              "      fill: #1967D2;\n",
              "      height: 32px;\n",
              "      padding: 0 0 0 0;\n",
              "      width: 32px;\n",
              "    }\n",
              "\n",
              "    .colab-df-convert:hover {\n",
              "      background-color: #E2EBFA;\n",
              "      box-shadow: 0px 1px 2px rgba(60, 64, 67, 0.3), 0px 1px 3px 1px rgba(60, 64, 67, 0.15);\n",
              "      fill: #174EA6;\n",
              "    }\n",
              "\n",
              "    [theme=dark] .colab-df-convert {\n",
              "      background-color: #3B4455;\n",
              "      fill: #D2E3FC;\n",
              "    }\n",
              "\n",
              "    [theme=dark] .colab-df-convert:hover {\n",
              "      background-color: #434B5C;\n",
              "      box-shadow: 0px 1px 3px 1px rgba(0, 0, 0, 0.15);\n",
              "      filter: drop-shadow(0px 1px 2px rgba(0, 0, 0, 0.3));\n",
              "      fill: #FFFFFF;\n",
              "    }\n",
              "  </style>\n",
              "\n",
              "      <script>\n",
              "        const buttonEl =\n",
              "          document.querySelector('#df-e1a61efa-d653-4e3f-a7c0-b6458993017d button.colab-df-convert');\n",
              "        buttonEl.style.display =\n",
              "          google.colab.kernel.accessAllowed ? 'block' : 'none';\n",
              "\n",
              "        async function convertToInteractive(key) {\n",
              "          const element = document.querySelector('#df-e1a61efa-d653-4e3f-a7c0-b6458993017d');\n",
              "          const dataTable =\n",
              "            await google.colab.kernel.invokeFunction('convertToInteractive',\n",
              "                                                     [key], {});\n",
              "          if (!dataTable) return;\n",
              "\n",
              "          const docLinkHtml = 'Like what you see? Visit the ' +\n",
              "            '<a target=\"_blank\" href=https://colab.research.google.com/notebooks/data_table.ipynb>data table notebook</a>'\n",
              "            + ' to learn more about interactive tables.';\n",
              "          element.innerHTML = '';\n",
              "          dataTable['output_type'] = 'display_data';\n",
              "          await google.colab.output.renderOutput(dataTable, element);\n",
              "          const docLink = document.createElement('div');\n",
              "          docLink.innerHTML = docLinkHtml;\n",
              "          element.appendChild(docLink);\n",
              "        }\n",
              "      </script>\n",
              "    </div>\n",
              "  </div>\n",
              "  "
            ]
          },
          "metadata": {},
          "execution_count": 41
        }
      ]
    },
    {
      "cell_type": "code",
      "source": [
        "data.columns"
      ],
      "metadata": {
        "colab": {
          "base_uri": "https://localhost:8080/"
        },
        "id": "cB8LJOj4RMlF",
        "outputId": "a705312f-2e38-413b-dcc4-a9809582f155"
      },
      "execution_count": 42,
      "outputs": [
        {
          "output_type": "execute_result",
          "data": {
            "text/plain": [
              "Index(['adult', 'belongs_to_collection', 'budget', 'genres', 'homepage', 'id',\n",
              "       'imdb_id', 'original_language', 'original_title', 'overview',\n",
              "       'popularity', 'poster_path', 'production_companies',\n",
              "       'production_countries', 'release_date', 'revenue', 'runtime',\n",
              "       'spoken_languages', 'status', 'tagline', 'title', 'video',\n",
              "       'vote_average', 'vote_count'],\n",
              "      dtype='object')"
            ]
          },
          "metadata": {},
          "execution_count": 42
        }
      ]
    },
    {
      "cell_type": "code",
      "source": [
        "data.status.unique()"
      ],
      "metadata": {
        "colab": {
          "base_uri": "https://localhost:8080/"
        },
        "id": "yF8xTJxzRYmz",
        "outputId": "bf887360-290c-4087-b12f-bddcec73ff3a"
      },
      "execution_count": 43,
      "outputs": [
        {
          "output_type": "execute_result",
          "data": {
            "text/plain": [
              "array(['Released', nan, 'Rumored', 'Post Production', 'In Production',\n",
              "       None, 'Planned', 'Canceled'], dtype=object)"
            ]
          },
          "metadata": {},
          "execution_count": 43
        }
      ]
    },
    {
      "cell_type": "code",
      "source": [
        "data = data[['id','genres', 'original_language', 'production_countries', 'tagline', 'original_title', 'adult','release_date','status']]"
      ],
      "metadata": {
        "id": "CwbUgPgDXU1B"
      },
      "execution_count": 47,
      "outputs": []
    },
    {
      "cell_type": "code",
      "source": [
        "for i in range(len(data)):\n",
        "  a = data[\"status\"][i]\n",
        "  if a == \"Released\":\n",
        "    data[\"status\"][i] = \"Released\"\n",
        "  else:\n",
        "    data[\"status\"][i] = \"  \""
      ],
      "metadata": {
        "id": "YD7LVP8-SAEf"
      },
      "execution_count": 48,
      "outputs": []
    },
    {
      "cell_type": "code",
      "source": [
        "import json\n",
        "import ast"
      ],
      "metadata": {
        "id": "c41lb-WBS_88"
      },
      "execution_count": 49,
      "outputs": []
    },
    {
      "cell_type": "code",
      "source": [
        "data[\"genres\"][1]"
      ],
      "metadata": {
        "colab": {
          "base_uri": "https://localhost:8080/",
          "height": 35
        },
        "id": "HgE8amH8S4cp",
        "outputId": "403bc742-910a-40d0-9dae-5a5becc0406f"
      },
      "execution_count": 50,
      "outputs": [
        {
          "output_type": "execute_result",
          "data": {
            "text/plain": [
              "\"[{'id': 12, 'name': 'Adventure'}, {'id': 14, 'name': 'Fantasy'}, {'id': 10751, 'name': 'Family'}]\""
            ],
            "application/vnd.google.colaboratory.intrinsic+json": {
              "type": "string"
            }
          },
          "metadata": {},
          "execution_count": 50
        }
      ]
    },
    {
      "cell_type": "code",
      "source": [
        "for i in range(len(data['genres'])):\n",
        "  str_tmp = \"\"\n",
        "  genre = data['genres'][i]\n",
        "  genre = genre.replace(\"\\'\", \"\\\"\")\n",
        "  json_genre = json.loads(genre)\n",
        "  for j in range(len(json_genre)):\n",
        "    str_tmp += (json_genre[j]['name'])+\" \"\n",
        "  data['genres'][i] = str_tmp"
      ],
      "metadata": {
        "id": "pms0sbEJXeLL"
      },
      "execution_count": 51,
      "outputs": []
    },
    {
      "cell_type": "code",
      "source": [
        "data['genres'][10]"
      ],
      "metadata": {
        "colab": {
          "base_uri": "https://localhost:8080/",
          "height": 35
        },
        "id": "rz-XUpnQXkQn",
        "outputId": "07c5fea4-14f1-4b15-e0f1-256fb84d1a60"
      },
      "execution_count": 54,
      "outputs": [
        {
          "output_type": "execute_result",
          "data": {
            "text/plain": [
              "'Comedy Drama Romance '"
            ],
            "application/vnd.google.colaboratory.intrinsic+json": {
              "type": "string"
            }
          },
          "metadata": {},
          "execution_count": 54
        }
      ]
    },
    {
      "cell_type": "code",
      "source": [
        "data.isna()"
      ],
      "metadata": {
        "id": "xNgc_1gUX1Hs"
      },
      "execution_count": null,
      "outputs": []
    },
    {
      "cell_type": "code",
      "source": [
        "data.isna().sum()"
      ],
      "metadata": {
        "colab": {
          "base_uri": "https://localhost:8080/"
        },
        "id": "vGPBIfnoX4wc",
        "outputId": "2c62b81e-d791-47a5-d964-1126c7ef4640"
      },
      "execution_count": 56,
      "outputs": [
        {
          "output_type": "execute_result",
          "data": {
            "text/plain": [
              "id                          0\n",
              "genres                      0\n",
              "original_language          11\n",
              "production_countries        3\n",
              "tagline                 25054\n",
              "original_title              0\n",
              "adult                       0\n",
              "release_date               87\n",
              "status                      0\n",
              "dtype: int64"
            ]
          },
          "metadata": {},
          "execution_count": 56
        }
      ]
    },
    {
      "cell_type": "code",
      "source": [
        "data['production_countries'].replace(np.nan, '', inplace=True)\n",
        "data[\"original_language\"].replace(np.nan,\" \",inplace = True)\n",
        "data[\"tagline\"].replace(np.nan, '', inplace=True)\n",
        "data['adult'].replace(np.nan, '', inplace=True)\n",
        "data[\"release_date\"].replace(np.nan,\" \",inplace = True)"
      ],
      "metadata": {
        "id": "wSmR3Zw0X-aJ"
      },
      "execution_count": 63,
      "outputs": []
    },
    {
      "cell_type": "code",
      "source": [
        "data.isna().sum()"
      ],
      "metadata": {
        "colab": {
          "base_uri": "https://localhost:8080/"
        },
        "id": "GTUbwwjRZvYe",
        "outputId": "45bcb150-0e50-4188-96ac-c190b758b49f"
      },
      "execution_count": 64,
      "outputs": [
        {
          "output_type": "execute_result",
          "data": {
            "text/plain": [
              "id                      0\n",
              "genres                  0\n",
              "original_language       0\n",
              "production_countries    0\n",
              "tagline                 0\n",
              "original_title          0\n",
              "adult                   0\n",
              "release_date            0\n",
              "status                  0\n",
              "dtype: int64"
            ]
          },
          "metadata": {},
          "execution_count": 64
        }
      ]
    },
    {
      "cell_type": "code",
      "source": [
        "for i in range(len(data['production_countries'])):\n",
        "  str_tmp = \"\"\n",
        "  country = data['production_countries'][i]\n",
        "  if (country != ''):\n",
        "    country = json.dumps(ast.literal_eval(country))\n",
        "    json_country = json.loads(country)\n",
        "    print(json_country)\n",
        "    try:\n",
        "      for j in range(len(json_country)):\n",
        "        str_tmp += (json_country[j]['name'])\n",
        "      print(str_tmp)\n",
        "\n",
        "      data['production_countries'][i] = str_tmp\n",
        "    except:\n",
        "      print(\"Error ================> \")\n",
        "  else:\n",
        "    print(\"Blank\")"
      ],
      "metadata": {
        "id": "WlfcKxMgYE7J"
      },
      "execution_count": null,
      "outputs": []
    },
    {
      "cell_type": "code",
      "source": [
        "data['production_countries'][5]"
      ],
      "metadata": {
        "id": "hfOm1IOqYOzQ"
      },
      "execution_count": null,
      "outputs": []
    },
    {
      "cell_type": "code",
      "source": [
        "data1 = pd.read_csv('/content/keywords.csv')"
      ],
      "metadata": {
        "id": "T5BYY4hdYVxD"
      },
      "execution_count": 66,
      "outputs": []
    },
    {
      "cell_type": "code",
      "source": [
        "for i in range(len(data1['keywords'])):\n",
        "  str_tmp = \"\"\n",
        "  keyword = data1['keywords'][i]\n",
        "  keyword = json.dumps(ast.literal_eval(keyword))\n",
        "  json_keyword = json.loads(keyword)\n",
        "  # print(json_keyword)\n",
        "  for j in range(len(json_keyword)):\n",
        "    str_tmp += (json_keyword[j]['name'])+\" \"\n",
        "  # print(str_tmp)\n",
        "\n",
        "  data1['keywords'][i] = str_tmp"
      ],
      "metadata": {
        "id": "ZQ-e8smWYh6U"
      },
      "execution_count": null,
      "outputs": []
    },
    {
      "cell_type": "code",
      "source": [
        "data2 = pd.read_csv('/content/credits.csv')"
      ],
      "metadata": {
        "id": "lL4m5W5HYn8n"
      },
      "execution_count": 69,
      "outputs": []
    },
    {
      "cell_type": "code",
      "source": [
        "data2 = data2.rename(columns=({'crew': 'director'}))"
      ],
      "metadata": {
        "id": "lu6-MpMVaJUS"
      },
      "execution_count": 70,
      "outputs": []
    },
    {
      "cell_type": "code",
      "source": [
        "data2['cast'][0]"
      ],
      "metadata": {
        "id": "-0qW0lVFaRP3"
      },
      "execution_count": null,
      "outputs": []
    },
    {
      "cell_type": "code",
      "source": [
        "for i in range(len(data2['cast'])):\n",
        "  str_tmp = \"\"\n",
        "  credit = data2['cast'][i]\n",
        "  credit = json.dumps(ast.literal_eval(credit))\n",
        "  json_credit = json.loads(credit)\n",
        "  # print(json_credit[0]['name'])\n",
        "\n",
        "  for j in range(len(json_credit)):\n",
        "    str_tmp += (json_credit[j]['name'])+\" \"\n",
        "  # print(str_tmp)\n",
        "\n",
        "  data2['cast'][i] = str_tmp"
      ],
      "metadata": {
        "colab": {
          "base_uri": "https://localhost:8080/"
        },
        "id": "y0tJtTsyaWJm",
        "outputId": "10eb0ad2-de98-4996-ff74-fb600ee8db9b"
      },
      "execution_count": 72,
      "outputs": [
        {
          "output_type": "stream",
          "name": "stderr",
          "text": [
            "/usr/local/lib/python3.7/dist-packages/ipykernel_launcher.py:12: SettingWithCopyWarning: \n",
            "A value is trying to be set on a copy of a slice from a DataFrame\n",
            "\n",
            "See the caveats in the documentation: https://pandas.pydata.org/pandas-docs/stable/user_guide/indexing.html#returning-a-view-versus-a-copy\n",
            "  if sys.path[0] == '':\n"
          ]
        }
      ]
    },
    {
      "cell_type": "code",
      "source": [
        "for i in range(len(data2['director'])):\n",
        "  str_tmp = \"\"\n",
        "  director = data2['director'][i]\n",
        "  director = json.dumps(ast.literal_eval(director))\n",
        "  json_director = json.loads(director)\n",
        "  # print(json_director)\n",
        "  for j in range(len(json_director)):\n",
        "    if json_director[j]['job'] == 'Director':\n",
        "      str_tmp += (json_director[j]['name'])+\" \"\n",
        "      # print(str_tmp)\n",
        "  data2['director'][i] = str_tmp"
      ],
      "metadata": {
        "colab": {
          "base_uri": "https://localhost:8080/"
        },
        "id": "51-wxXrOaerK",
        "outputId": "22130a2e-d755-44b0-d45d-be527deac922"
      },
      "execution_count": 73,
      "outputs": [
        {
          "output_type": "stream",
          "name": "stderr",
          "text": [
            "/usr/local/lib/python3.7/dist-packages/ipykernel_launcher.py:11: SettingWithCopyWarning: \n",
            "A value is trying to be set on a copy of a slice from a DataFrame\n",
            "\n",
            "See the caveats in the documentation: https://pandas.pydata.org/pandas-docs/stable/user_guide/indexing.html#returning-a-view-versus-a-copy\n",
            "  # This is added back by InteractiveShellApp.init_path()\n"
          ]
        }
      ]
    },
    {
      "cell_type": "code",
      "source": [
        "data['id'] = data['id'].astype(str)"
      ],
      "metadata": {
        "id": "BL1afDOJa96G"
      },
      "execution_count": 74,
      "outputs": []
    },
    {
      "cell_type": "code",
      "source": [
        "data1['id'] = data1['id'].astype(str)"
      ],
      "metadata": {
        "id": "Bb1oTuuCbHVG"
      },
      "execution_count": 75,
      "outputs": []
    },
    {
      "cell_type": "code",
      "source": [
        "data_merge = pd.merge(data1, data, on='id', how='inner')[['id', 'genres', 'original_language', 'production_countries', 'tagline',\n",
        "       'original_title', 'keywords', 'adult', 'release_date', 'status']]"
      ],
      "metadata": {
        "id": "BfbT9FoqbOK9"
      },
      "execution_count": 76,
      "outputs": []
    },
    {
      "cell_type": "code",
      "source": [
        "data2['id']=data2['id'].astype(str)"
      ],
      "metadata": {
        "id": "XzC2h03rbP2a"
      },
      "execution_count": 78,
      "outputs": []
    },
    {
      "cell_type": "code",
      "source": [
        "data_merge_whole = pd.merge(data_merge, data2, on='id', how='inner')[['id', 'genres', 'original_language', 'production_countries', 'tagline',\n",
        "       'original_title', 'keywords', 'cast','director', 'adult', 'release_date', 'status']]"
      ],
      "metadata": {
        "id": "YEIthrykbWqd"
      },
      "execution_count": 79,
      "outputs": []
    },
    {
      "cell_type": "code",
      "source": [
        "data_merge_whole.head(5)"
      ],
      "metadata": {
        "colab": {
          "base_uri": "https://localhost:8080/",
          "height": 808
        },
        "id": "NfPMi55Bb-Mv",
        "outputId": "8b4f7448-73a3-4dff-ba22-c024ff97f01d"
      },
      "execution_count": 81,
      "outputs": [
        {
          "output_type": "execute_result",
          "data": {
            "text/plain": [
              "      id                     genres original_language  \\\n",
              "0    862   Animation Comedy Family                 en   \n",
              "1   8844  Adventure Fantasy Family                 en   \n",
              "2  15602            Romance Comedy                 en   \n",
              "3  31357      Comedy Drama Romance                 en   \n",
              "4  11862                    Comedy                 en   \n",
              "\n",
              "       production_countries  \\\n",
              "0  United States of America   \n",
              "1  United States of America   \n",
              "2  United States of America   \n",
              "3  United States of America   \n",
              "4  United States of America   \n",
              "\n",
              "                                             tagline  \\\n",
              "0                                                      \n",
              "1          Roll the dice and unleash the excitement!   \n",
              "2  Still Yelling. Still Fighting. Still Ready for...   \n",
              "3  Friends are the people who let you be yourself...   \n",
              "4  Just When His World Is Back To Normal... He's ...   \n",
              "\n",
              "                original_title  \\\n",
              "0                    Toy Story   \n",
              "1                      Jumanji   \n",
              "2             Grumpier Old Men   \n",
              "3            Waiting to Exhale   \n",
              "4  Father of the Bride Part II   \n",
              "\n",
              "                                            keywords  \\\n",
              "0  jealousy toy boy friendship friends rivalry bo...   \n",
              "1  board game disappearance based on children's b...   \n",
              "2  fishing best friend duringcreditsstinger old men    \n",
              "3  based on novel interracial relationship single...   \n",
              "4  baby midlife crisis confidence aging daughter ...   \n",
              "\n",
              "                                                cast          director  adult  \\\n",
              "0  Tom Hanks Tim Allen Don Rickles Jim Varney Wal...    John Lasseter   False   \n",
              "1  Robin Williams Jonathan Hyde Kirsten Dunst Bra...     Joe Johnston   False   \n",
              "2  Walter Matthau Jack Lemmon Ann-Margret Sophia ...    Howard Deutch   False   \n",
              "3  Whitney Houston Angela Bassett Loretta Devine ...  Forest Whitaker   False   \n",
              "4  Steve Martin Diane Keaton Martin Short Kimberl...    Charles Shyer   False   \n",
              "\n",
              "  release_date    status  \n",
              "0   1995-10-30  Released  \n",
              "1   1995-12-15  Released  \n",
              "2   1995-12-22  Released  \n",
              "3   1995-12-22  Released  \n",
              "4   1995-02-10  Released  "
            ],
            "text/html": [
              "\n",
              "  <div id=\"df-bee6aff0-12d9-444a-acf3-f69ffa74b707\">\n",
              "    <div class=\"colab-df-container\">\n",
              "      <div>\n",
              "<style scoped>\n",
              "    .dataframe tbody tr th:only-of-type {\n",
              "        vertical-align: middle;\n",
              "    }\n",
              "\n",
              "    .dataframe tbody tr th {\n",
              "        vertical-align: top;\n",
              "    }\n",
              "\n",
              "    .dataframe thead th {\n",
              "        text-align: right;\n",
              "    }\n",
              "</style>\n",
              "<table border=\"1\" class=\"dataframe\">\n",
              "  <thead>\n",
              "    <tr style=\"text-align: right;\">\n",
              "      <th></th>\n",
              "      <th>id</th>\n",
              "      <th>genres</th>\n",
              "      <th>original_language</th>\n",
              "      <th>production_countries</th>\n",
              "      <th>tagline</th>\n",
              "      <th>original_title</th>\n",
              "      <th>keywords</th>\n",
              "      <th>cast</th>\n",
              "      <th>director</th>\n",
              "      <th>adult</th>\n",
              "      <th>release_date</th>\n",
              "      <th>status</th>\n",
              "    </tr>\n",
              "  </thead>\n",
              "  <tbody>\n",
              "    <tr>\n",
              "      <th>0</th>\n",
              "      <td>862</td>\n",
              "      <td>Animation Comedy Family</td>\n",
              "      <td>en</td>\n",
              "      <td>United States of America</td>\n",
              "      <td></td>\n",
              "      <td>Toy Story</td>\n",
              "      <td>jealousy toy boy friendship friends rivalry bo...</td>\n",
              "      <td>Tom Hanks Tim Allen Don Rickles Jim Varney Wal...</td>\n",
              "      <td>John Lasseter</td>\n",
              "      <td>False</td>\n",
              "      <td>1995-10-30</td>\n",
              "      <td>Released</td>\n",
              "    </tr>\n",
              "    <tr>\n",
              "      <th>1</th>\n",
              "      <td>8844</td>\n",
              "      <td>Adventure Fantasy Family</td>\n",
              "      <td>en</td>\n",
              "      <td>United States of America</td>\n",
              "      <td>Roll the dice and unleash the excitement!</td>\n",
              "      <td>Jumanji</td>\n",
              "      <td>board game disappearance based on children's b...</td>\n",
              "      <td>Robin Williams Jonathan Hyde Kirsten Dunst Bra...</td>\n",
              "      <td>Joe Johnston</td>\n",
              "      <td>False</td>\n",
              "      <td>1995-12-15</td>\n",
              "      <td>Released</td>\n",
              "    </tr>\n",
              "    <tr>\n",
              "      <th>2</th>\n",
              "      <td>15602</td>\n",
              "      <td>Romance Comedy</td>\n",
              "      <td>en</td>\n",
              "      <td>United States of America</td>\n",
              "      <td>Still Yelling. Still Fighting. Still Ready for...</td>\n",
              "      <td>Grumpier Old Men</td>\n",
              "      <td>fishing best friend duringcreditsstinger old men</td>\n",
              "      <td>Walter Matthau Jack Lemmon Ann-Margret Sophia ...</td>\n",
              "      <td>Howard Deutch</td>\n",
              "      <td>False</td>\n",
              "      <td>1995-12-22</td>\n",
              "      <td>Released</td>\n",
              "    </tr>\n",
              "    <tr>\n",
              "      <th>3</th>\n",
              "      <td>31357</td>\n",
              "      <td>Comedy Drama Romance</td>\n",
              "      <td>en</td>\n",
              "      <td>United States of America</td>\n",
              "      <td>Friends are the people who let you be yourself...</td>\n",
              "      <td>Waiting to Exhale</td>\n",
              "      <td>based on novel interracial relationship single...</td>\n",
              "      <td>Whitney Houston Angela Bassett Loretta Devine ...</td>\n",
              "      <td>Forest Whitaker</td>\n",
              "      <td>False</td>\n",
              "      <td>1995-12-22</td>\n",
              "      <td>Released</td>\n",
              "    </tr>\n",
              "    <tr>\n",
              "      <th>4</th>\n",
              "      <td>11862</td>\n",
              "      <td>Comedy</td>\n",
              "      <td>en</td>\n",
              "      <td>United States of America</td>\n",
              "      <td>Just When His World Is Back To Normal... He's ...</td>\n",
              "      <td>Father of the Bride Part II</td>\n",
              "      <td>baby midlife crisis confidence aging daughter ...</td>\n",
              "      <td>Steve Martin Diane Keaton Martin Short Kimberl...</td>\n",
              "      <td>Charles Shyer</td>\n",
              "      <td>False</td>\n",
              "      <td>1995-02-10</td>\n",
              "      <td>Released</td>\n",
              "    </tr>\n",
              "  </tbody>\n",
              "</table>\n",
              "</div>\n",
              "      <button class=\"colab-df-convert\" onclick=\"convertToInteractive('df-bee6aff0-12d9-444a-acf3-f69ffa74b707')\"\n",
              "              title=\"Convert this dataframe to an interactive table.\"\n",
              "              style=\"display:none;\">\n",
              "        \n",
              "  <svg xmlns=\"http://www.w3.org/2000/svg\" height=\"24px\"viewBox=\"0 0 24 24\"\n",
              "       width=\"24px\">\n",
              "    <path d=\"M0 0h24v24H0V0z\" fill=\"none\"/>\n",
              "    <path d=\"M18.56 5.44l.94 2.06.94-2.06 2.06-.94-2.06-.94-.94-2.06-.94 2.06-2.06.94zm-11 1L8.5 8.5l.94-2.06 2.06-.94-2.06-.94L8.5 2.5l-.94 2.06-2.06.94zm10 10l.94 2.06.94-2.06 2.06-.94-2.06-.94-.94-2.06-.94 2.06-2.06.94z\"/><path d=\"M17.41 7.96l-1.37-1.37c-.4-.4-.92-.59-1.43-.59-.52 0-1.04.2-1.43.59L10.3 9.45l-7.72 7.72c-.78.78-.78 2.05 0 2.83L4 21.41c.39.39.9.59 1.41.59.51 0 1.02-.2 1.41-.59l7.78-7.78 2.81-2.81c.8-.78.8-2.07 0-2.86zM5.41 20L4 18.59l7.72-7.72 1.47 1.35L5.41 20z\"/>\n",
              "  </svg>\n",
              "      </button>\n",
              "      \n",
              "  <style>\n",
              "    .colab-df-container {\n",
              "      display:flex;\n",
              "      flex-wrap:wrap;\n",
              "      gap: 12px;\n",
              "    }\n",
              "\n",
              "    .colab-df-convert {\n",
              "      background-color: #E8F0FE;\n",
              "      border: none;\n",
              "      border-radius: 50%;\n",
              "      cursor: pointer;\n",
              "      display: none;\n",
              "      fill: #1967D2;\n",
              "      height: 32px;\n",
              "      padding: 0 0 0 0;\n",
              "      width: 32px;\n",
              "    }\n",
              "\n",
              "    .colab-df-convert:hover {\n",
              "      background-color: #E2EBFA;\n",
              "      box-shadow: 0px 1px 2px rgba(60, 64, 67, 0.3), 0px 1px 3px 1px rgba(60, 64, 67, 0.15);\n",
              "      fill: #174EA6;\n",
              "    }\n",
              "\n",
              "    [theme=dark] .colab-df-convert {\n",
              "      background-color: #3B4455;\n",
              "      fill: #D2E3FC;\n",
              "    }\n",
              "\n",
              "    [theme=dark] .colab-df-convert:hover {\n",
              "      background-color: #434B5C;\n",
              "      box-shadow: 0px 1px 3px 1px rgba(0, 0, 0, 0.15);\n",
              "      filter: drop-shadow(0px 1px 2px rgba(0, 0, 0, 0.3));\n",
              "      fill: #FFFFFF;\n",
              "    }\n",
              "  </style>\n",
              "\n",
              "      <script>\n",
              "        const buttonEl =\n",
              "          document.querySelector('#df-bee6aff0-12d9-444a-acf3-f69ffa74b707 button.colab-df-convert');\n",
              "        buttonEl.style.display =\n",
              "          google.colab.kernel.accessAllowed ? 'block' : 'none';\n",
              "\n",
              "        async function convertToInteractive(key) {\n",
              "          const element = document.querySelector('#df-bee6aff0-12d9-444a-acf3-f69ffa74b707');\n",
              "          const dataTable =\n",
              "            await google.colab.kernel.invokeFunction('convertToInteractive',\n",
              "                                                     [key], {});\n",
              "          if (!dataTable) return;\n",
              "\n",
              "          const docLinkHtml = 'Like what you see? Visit the ' +\n",
              "            '<a target=\"_blank\" href=https://colab.research.google.com/notebooks/data_table.ipynb>data table notebook</a>'\n",
              "            + ' to learn more about interactive tables.';\n",
              "          element.innerHTML = '';\n",
              "          dataTable['output_type'] = 'display_data';\n",
              "          await google.colab.output.renderOutput(dataTable, element);\n",
              "          const docLink = document.createElement('div');\n",
              "          docLink.innerHTML = docLinkHtml;\n",
              "          element.appendChild(docLink);\n",
              "        }\n",
              "      </script>\n",
              "    </div>\n",
              "  </div>\n",
              "  "
            ]
          },
          "metadata": {},
          "execution_count": 81
        }
      ]
    },
    {
      "cell_type": "code",
      "source": [
        "data_merge_whole = data_merge_whole.dropna()\n",
        "data_merge_whole"
      ],
      "metadata": {
        "colab": {
          "base_uri": "https://localhost:8080/",
          "height": 1000
        },
        "id": "oIj0dcXEcgNB",
        "outputId": "525f7b7a-44c6-451f-810f-4cb1b6664040"
      },
      "execution_count": 84,
      "outputs": [
        {
          "output_type": "execute_result",
          "data": {
            "text/plain": [
              "           id                     genres original_language  \\\n",
              "0         862   Animation Comedy Family                 en   \n",
              "1        8844  Adventure Fantasy Family                 en   \n",
              "2       15602            Romance Comedy                 en   \n",
              "3       31357      Comedy Drama Romance                 en   \n",
              "4       11862                    Comedy                 en   \n",
              "...       ...                        ...               ...   \n",
              "46623  439050              Drama Family                 fa   \n",
              "46624  111109                     Drama                 tl   \n",
              "46625   67758     Action Drama Thriller                 en   \n",
              "46626  227506                                           en   \n",
              "46627  461257                                           en   \n",
              "\n",
              "           production_countries  \\\n",
              "0      United States of America   \n",
              "1      United States of America   \n",
              "2      United States of America   \n",
              "3      United States of America   \n",
              "4      United States of America   \n",
              "...                         ...   \n",
              "46623                      Iran   \n",
              "46624               Philippines   \n",
              "46625  United States of America   \n",
              "46626                    Russia   \n",
              "46627            United Kingdom   \n",
              "\n",
              "                                                 tagline  \\\n",
              "0                                                          \n",
              "1              Roll the dice and unleash the excitement!   \n",
              "2      Still Yelling. Still Fighting. Still Ready for...   \n",
              "3      Friends are the people who let you be yourself...   \n",
              "4      Just When His World Is Back To Normal... He's ...   \n",
              "...                                                  ...   \n",
              "46623         Rising and falling between a man and woman   \n",
              "46624                                                      \n",
              "46625                             A deadly game of wits.   \n",
              "46626                                                      \n",
              "46627                                                      \n",
              "\n",
              "                    original_title  \\\n",
              "0                        Toy Story   \n",
              "1                          Jumanji   \n",
              "2                 Grumpier Old Men   \n",
              "3                Waiting to Exhale   \n",
              "4      Father of the Bride Part II   \n",
              "...                            ...   \n",
              "46623                      رگ خواب   \n",
              "46624          Siglo ng Pagluluwal   \n",
              "46625                     Betrayal   \n",
              "46626          Satana likuyushchiy   \n",
              "46627                     Queerama   \n",
              "\n",
              "                                                keywords  \\\n",
              "0      jealousy toy boy friendship friends rivalry bo...   \n",
              "1      board game disappearance based on children's b...   \n",
              "2      fishing best friend duringcreditsstinger old men    \n",
              "3      based on novel interracial relationship single...   \n",
              "4      baby midlife crisis confidence aging daughter ...   \n",
              "...                                                  ...   \n",
              "46623                                       tragic love    \n",
              "46624                                 artist play pinoy    \n",
              "46625                                                      \n",
              "46626                                                      \n",
              "46627                                                      \n",
              "\n",
              "                                                    cast           director  \\\n",
              "0      Tom Hanks Tim Allen Don Rickles Jim Varney Wal...     John Lasseter    \n",
              "1      Robin Williams Jonathan Hyde Kirsten Dunst Bra...      Joe Johnston    \n",
              "2      Walter Matthau Jack Lemmon Ann-Margret Sophia ...     Howard Deutch    \n",
              "3      Whitney Houston Angela Bassett Loretta Devine ...   Forest Whitaker    \n",
              "4      Steve Martin Diane Keaton Martin Short Kimberl...     Charles Shyer    \n",
              "...                                                  ...                ...   \n",
              "46623           Leila Hatami Kourosh Tahami Elham Korda   Hamid Nematollah    \n",
              "46624  Angel Aquino Perry Dizon Hazel Orencio Joel To...          Lav Diaz    \n",
              "46625  Erika Eleniak Adam Baldwin Julie du Page James...    Mark L. Lester    \n",
              "46626  Iwan Mosschuchin Nathalie Lissenko Pavel Pavlo...  Yakov Protazanov    \n",
              "46627                                                        Daisy Asquith    \n",
              "\n",
              "       adult release_date    status  \n",
              "0      False   1995-10-30  Released  \n",
              "1      False   1995-12-15  Released  \n",
              "2      False   1995-12-22  Released  \n",
              "3      False   1995-12-22  Released  \n",
              "4      False   1995-02-10  Released  \n",
              "...      ...          ...       ...  \n",
              "46623  False               Released  \n",
              "46624  False   2011-11-17  Released  \n",
              "46625  False   2003-08-01  Released  \n",
              "46626  False   1917-10-21  Released  \n",
              "46627  False   2017-06-09  Released  \n",
              "\n",
              "[46628 rows x 12 columns]"
            ],
            "text/html": [
              "\n",
              "  <div id=\"df-806cdc03-3270-4c76-b1cb-c993fabcc001\">\n",
              "    <div class=\"colab-df-container\">\n",
              "      <div>\n",
              "<style scoped>\n",
              "    .dataframe tbody tr th:only-of-type {\n",
              "        vertical-align: middle;\n",
              "    }\n",
              "\n",
              "    .dataframe tbody tr th {\n",
              "        vertical-align: top;\n",
              "    }\n",
              "\n",
              "    .dataframe thead th {\n",
              "        text-align: right;\n",
              "    }\n",
              "</style>\n",
              "<table border=\"1\" class=\"dataframe\">\n",
              "  <thead>\n",
              "    <tr style=\"text-align: right;\">\n",
              "      <th></th>\n",
              "      <th>id</th>\n",
              "      <th>genres</th>\n",
              "      <th>original_language</th>\n",
              "      <th>production_countries</th>\n",
              "      <th>tagline</th>\n",
              "      <th>original_title</th>\n",
              "      <th>keywords</th>\n",
              "      <th>cast</th>\n",
              "      <th>director</th>\n",
              "      <th>adult</th>\n",
              "      <th>release_date</th>\n",
              "      <th>status</th>\n",
              "    </tr>\n",
              "  </thead>\n",
              "  <tbody>\n",
              "    <tr>\n",
              "      <th>0</th>\n",
              "      <td>862</td>\n",
              "      <td>Animation Comedy Family</td>\n",
              "      <td>en</td>\n",
              "      <td>United States of America</td>\n",
              "      <td></td>\n",
              "      <td>Toy Story</td>\n",
              "      <td>jealousy toy boy friendship friends rivalry bo...</td>\n",
              "      <td>Tom Hanks Tim Allen Don Rickles Jim Varney Wal...</td>\n",
              "      <td>John Lasseter</td>\n",
              "      <td>False</td>\n",
              "      <td>1995-10-30</td>\n",
              "      <td>Released</td>\n",
              "    </tr>\n",
              "    <tr>\n",
              "      <th>1</th>\n",
              "      <td>8844</td>\n",
              "      <td>Adventure Fantasy Family</td>\n",
              "      <td>en</td>\n",
              "      <td>United States of America</td>\n",
              "      <td>Roll the dice and unleash the excitement!</td>\n",
              "      <td>Jumanji</td>\n",
              "      <td>board game disappearance based on children's b...</td>\n",
              "      <td>Robin Williams Jonathan Hyde Kirsten Dunst Bra...</td>\n",
              "      <td>Joe Johnston</td>\n",
              "      <td>False</td>\n",
              "      <td>1995-12-15</td>\n",
              "      <td>Released</td>\n",
              "    </tr>\n",
              "    <tr>\n",
              "      <th>2</th>\n",
              "      <td>15602</td>\n",
              "      <td>Romance Comedy</td>\n",
              "      <td>en</td>\n",
              "      <td>United States of America</td>\n",
              "      <td>Still Yelling. Still Fighting. Still Ready for...</td>\n",
              "      <td>Grumpier Old Men</td>\n",
              "      <td>fishing best friend duringcreditsstinger old men</td>\n",
              "      <td>Walter Matthau Jack Lemmon Ann-Margret Sophia ...</td>\n",
              "      <td>Howard Deutch</td>\n",
              "      <td>False</td>\n",
              "      <td>1995-12-22</td>\n",
              "      <td>Released</td>\n",
              "    </tr>\n",
              "    <tr>\n",
              "      <th>3</th>\n",
              "      <td>31357</td>\n",
              "      <td>Comedy Drama Romance</td>\n",
              "      <td>en</td>\n",
              "      <td>United States of America</td>\n",
              "      <td>Friends are the people who let you be yourself...</td>\n",
              "      <td>Waiting to Exhale</td>\n",
              "      <td>based on novel interracial relationship single...</td>\n",
              "      <td>Whitney Houston Angela Bassett Loretta Devine ...</td>\n",
              "      <td>Forest Whitaker</td>\n",
              "      <td>False</td>\n",
              "      <td>1995-12-22</td>\n",
              "      <td>Released</td>\n",
              "    </tr>\n",
              "    <tr>\n",
              "      <th>4</th>\n",
              "      <td>11862</td>\n",
              "      <td>Comedy</td>\n",
              "      <td>en</td>\n",
              "      <td>United States of America</td>\n",
              "      <td>Just When His World Is Back To Normal... He's ...</td>\n",
              "      <td>Father of the Bride Part II</td>\n",
              "      <td>baby midlife crisis confidence aging daughter ...</td>\n",
              "      <td>Steve Martin Diane Keaton Martin Short Kimberl...</td>\n",
              "      <td>Charles Shyer</td>\n",
              "      <td>False</td>\n",
              "      <td>1995-02-10</td>\n",
              "      <td>Released</td>\n",
              "    </tr>\n",
              "    <tr>\n",
              "      <th>...</th>\n",
              "      <td>...</td>\n",
              "      <td>...</td>\n",
              "      <td>...</td>\n",
              "      <td>...</td>\n",
              "      <td>...</td>\n",
              "      <td>...</td>\n",
              "      <td>...</td>\n",
              "      <td>...</td>\n",
              "      <td>...</td>\n",
              "      <td>...</td>\n",
              "      <td>...</td>\n",
              "      <td>...</td>\n",
              "    </tr>\n",
              "    <tr>\n",
              "      <th>46623</th>\n",
              "      <td>439050</td>\n",
              "      <td>Drama Family</td>\n",
              "      <td>fa</td>\n",
              "      <td>Iran</td>\n",
              "      <td>Rising and falling between a man and woman</td>\n",
              "      <td>رگ خواب</td>\n",
              "      <td>tragic love</td>\n",
              "      <td>Leila Hatami Kourosh Tahami Elham Korda</td>\n",
              "      <td>Hamid Nematollah</td>\n",
              "      <td>False</td>\n",
              "      <td></td>\n",
              "      <td>Released</td>\n",
              "    </tr>\n",
              "    <tr>\n",
              "      <th>46624</th>\n",
              "      <td>111109</td>\n",
              "      <td>Drama</td>\n",
              "      <td>tl</td>\n",
              "      <td>Philippines</td>\n",
              "      <td></td>\n",
              "      <td>Siglo ng Pagluluwal</td>\n",
              "      <td>artist play pinoy</td>\n",
              "      <td>Angel Aquino Perry Dizon Hazel Orencio Joel To...</td>\n",
              "      <td>Lav Diaz</td>\n",
              "      <td>False</td>\n",
              "      <td>2011-11-17</td>\n",
              "      <td>Released</td>\n",
              "    </tr>\n",
              "    <tr>\n",
              "      <th>46625</th>\n",
              "      <td>67758</td>\n",
              "      <td>Action Drama Thriller</td>\n",
              "      <td>en</td>\n",
              "      <td>United States of America</td>\n",
              "      <td>A deadly game of wits.</td>\n",
              "      <td>Betrayal</td>\n",
              "      <td></td>\n",
              "      <td>Erika Eleniak Adam Baldwin Julie du Page James...</td>\n",
              "      <td>Mark L. Lester</td>\n",
              "      <td>False</td>\n",
              "      <td>2003-08-01</td>\n",
              "      <td>Released</td>\n",
              "    </tr>\n",
              "    <tr>\n",
              "      <th>46626</th>\n",
              "      <td>227506</td>\n",
              "      <td></td>\n",
              "      <td>en</td>\n",
              "      <td>Russia</td>\n",
              "      <td></td>\n",
              "      <td>Satana likuyushchiy</td>\n",
              "      <td></td>\n",
              "      <td>Iwan Mosschuchin Nathalie Lissenko Pavel Pavlo...</td>\n",
              "      <td>Yakov Protazanov</td>\n",
              "      <td>False</td>\n",
              "      <td>1917-10-21</td>\n",
              "      <td>Released</td>\n",
              "    </tr>\n",
              "    <tr>\n",
              "      <th>46627</th>\n",
              "      <td>461257</td>\n",
              "      <td></td>\n",
              "      <td>en</td>\n",
              "      <td>United Kingdom</td>\n",
              "      <td></td>\n",
              "      <td>Queerama</td>\n",
              "      <td></td>\n",
              "      <td></td>\n",
              "      <td>Daisy Asquith</td>\n",
              "      <td>False</td>\n",
              "      <td>2017-06-09</td>\n",
              "      <td>Released</td>\n",
              "    </tr>\n",
              "  </tbody>\n",
              "</table>\n",
              "<p>46628 rows × 12 columns</p>\n",
              "</div>\n",
              "      <button class=\"colab-df-convert\" onclick=\"convertToInteractive('df-806cdc03-3270-4c76-b1cb-c993fabcc001')\"\n",
              "              title=\"Convert this dataframe to an interactive table.\"\n",
              "              style=\"display:none;\">\n",
              "        \n",
              "  <svg xmlns=\"http://www.w3.org/2000/svg\" height=\"24px\"viewBox=\"0 0 24 24\"\n",
              "       width=\"24px\">\n",
              "    <path d=\"M0 0h24v24H0V0z\" fill=\"none\"/>\n",
              "    <path d=\"M18.56 5.44l.94 2.06.94-2.06 2.06-.94-2.06-.94-.94-2.06-.94 2.06-2.06.94zm-11 1L8.5 8.5l.94-2.06 2.06-.94-2.06-.94L8.5 2.5l-.94 2.06-2.06.94zm10 10l.94 2.06.94-2.06 2.06-.94-2.06-.94-.94-2.06-.94 2.06-2.06.94z\"/><path d=\"M17.41 7.96l-1.37-1.37c-.4-.4-.92-.59-1.43-.59-.52 0-1.04.2-1.43.59L10.3 9.45l-7.72 7.72c-.78.78-.78 2.05 0 2.83L4 21.41c.39.39.9.59 1.41.59.51 0 1.02-.2 1.41-.59l7.78-7.78 2.81-2.81c.8-.78.8-2.07 0-2.86zM5.41 20L4 18.59l7.72-7.72 1.47 1.35L5.41 20z\"/>\n",
              "  </svg>\n",
              "      </button>\n",
              "      \n",
              "  <style>\n",
              "    .colab-df-container {\n",
              "      display:flex;\n",
              "      flex-wrap:wrap;\n",
              "      gap: 12px;\n",
              "    }\n",
              "\n",
              "    .colab-df-convert {\n",
              "      background-color: #E8F0FE;\n",
              "      border: none;\n",
              "      border-radius: 50%;\n",
              "      cursor: pointer;\n",
              "      display: none;\n",
              "      fill: #1967D2;\n",
              "      height: 32px;\n",
              "      padding: 0 0 0 0;\n",
              "      width: 32px;\n",
              "    }\n",
              "\n",
              "    .colab-df-convert:hover {\n",
              "      background-color: #E2EBFA;\n",
              "      box-shadow: 0px 1px 2px rgba(60, 64, 67, 0.3), 0px 1px 3px 1px rgba(60, 64, 67, 0.15);\n",
              "      fill: #174EA6;\n",
              "    }\n",
              "\n",
              "    [theme=dark] .colab-df-convert {\n",
              "      background-color: #3B4455;\n",
              "      fill: #D2E3FC;\n",
              "    }\n",
              "\n",
              "    [theme=dark] .colab-df-convert:hover {\n",
              "      background-color: #434B5C;\n",
              "      box-shadow: 0px 1px 3px 1px rgba(0, 0, 0, 0.15);\n",
              "      filter: drop-shadow(0px 1px 2px rgba(0, 0, 0, 0.3));\n",
              "      fill: #FFFFFF;\n",
              "    }\n",
              "  </style>\n",
              "\n",
              "      <script>\n",
              "        const buttonEl =\n",
              "          document.querySelector('#df-806cdc03-3270-4c76-b1cb-c993fabcc001 button.colab-df-convert');\n",
              "        buttonEl.style.display =\n",
              "          google.colab.kernel.accessAllowed ? 'block' : 'none';\n",
              "\n",
              "        async function convertToInteractive(key) {\n",
              "          const element = document.querySelector('#df-806cdc03-3270-4c76-b1cb-c993fabcc001');\n",
              "          const dataTable =\n",
              "            await google.colab.kernel.invokeFunction('convertToInteractive',\n",
              "                                                     [key], {});\n",
              "          if (!dataTable) return;\n",
              "\n",
              "          const docLinkHtml = 'Like what you see? Visit the ' +\n",
              "            '<a target=\"_blank\" href=https://colab.research.google.com/notebooks/data_table.ipynb>data table notebook</a>'\n",
              "            + ' to learn more about interactive tables.';\n",
              "          element.innerHTML = '';\n",
              "          dataTable['output_type'] = 'display_data';\n",
              "          await google.colab.output.renderOutput(dataTable, element);\n",
              "          const docLink = document.createElement('div');\n",
              "          docLink.innerHTML = docLinkHtml;\n",
              "          element.appendChild(docLink);\n",
              "        }\n",
              "      </script>\n",
              "    </div>\n",
              "  </div>\n",
              "  "
            ]
          },
          "metadata": {},
          "execution_count": 84
        }
      ]
    },
    {
      "cell_type": "code",
      "source": [
        "data_merge_whole.isna().sum()"
      ],
      "metadata": {
        "colab": {
          "base_uri": "https://localhost:8080/"
        },
        "id": "10ukhuxQcLHR",
        "outputId": "6cee4ec4-e8f9-4604-aac8-974ab43e1a48"
      },
      "execution_count": 82,
      "outputs": [
        {
          "output_type": "execute_result",
          "data": {
            "text/plain": [
              "id                      0\n",
              "genres                  0\n",
              "original_language       0\n",
              "production_countries    0\n",
              "tagline                 0\n",
              "original_title          0\n",
              "keywords                0\n",
              "cast                    0\n",
              "director                0\n",
              "adult                   0\n",
              "release_date            0\n",
              "status                  0\n",
              "dtype: int64"
            ]
          },
          "metadata": {},
          "execution_count": 82
        }
      ]
    },
    {
      "cell_type": "code",
      "source": [
        "data_merge_whole.to_csv('Modified_data.csv',index=False)\n",
        "from google.colab import files\n",
        "files.download(\"Modified_data.csv\")"
      ],
      "metadata": {
        "id": "Eu1Lvkgec6wQ"
      },
      "execution_count": null,
      "outputs": []
    }
  ]
}