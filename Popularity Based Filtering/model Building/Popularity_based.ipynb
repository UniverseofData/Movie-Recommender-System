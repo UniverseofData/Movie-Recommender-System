{
 "cells": [
  {
   "cell_type": "markdown",
   "id": "85880908",
   "metadata": {},
   "source": [
    "# Building Popularity based recommender system"
   ]
  },
  {
   "cell_type": "code",
   "execution_count": 51,
   "id": "bfee2427",
   "metadata": {},
   "outputs": [],
   "source": [
    "#Importing required libraries\n",
    "import numpy as np\n",
    "import pandas as pd\n",
    "import seaborn as sns\n",
    "import matplotlib.pyplot as plt\n",
    "import seaborn as sns\n",
    "import warnings\n",
    "warnings.filterwarnings('ignore')\n",
    "from sklearn.metrics import mean_squared_error\n",
    "%matplotlib inline"
   ]
  },
  {
   "cell_type": "code",
   "execution_count": 40,
   "id": "097a7151",
   "metadata": {},
   "outputs": [],
   "source": [
    "#Importing data\n",
    "data = pd.read_csv('C:/Users/neha1/Desktop/Innomatics/Movie Rec Sys/MoviesData.csv')"
   ]
  },
  {
   "cell_type": "code",
   "execution_count": 74,
   "id": "d332c35f",
   "metadata": {},
   "outputs": [],
   "source": [
    "#Exploratory data analysis"
   ]
  },
  {
   "cell_type": "code",
   "execution_count": 41,
   "id": "8c3089a9",
   "metadata": {
    "scrolled": false
   },
   "outputs": [
    {
     "data": {
      "text/html": [
       "<div>\n",
       "<style scoped>\n",
       "    .dataframe tbody tr th:only-of-type {\n",
       "        vertical-align: middle;\n",
       "    }\n",
       "\n",
       "    .dataframe tbody tr th {\n",
       "        vertical-align: top;\n",
       "    }\n",
       "\n",
       "    .dataframe thead th {\n",
       "        text-align: right;\n",
       "    }\n",
       "</style>\n",
       "<table border=\"1\" class=\"dataframe\">\n",
       "  <thead>\n",
       "    <tr style=\"text-align: right;\">\n",
       "      <th></th>\n",
       "      <th>index</th>\n",
       "      <th>tmdbId</th>\n",
       "      <th>title</th>\n",
       "      <th>release_year</th>\n",
       "      <th>release_day</th>\n",
       "      <th>genres</th>\n",
       "      <th>original_language</th>\n",
       "      <th>runtime</th>\n",
       "      <th>content</th>\n",
       "      <th>production_companies</th>\n",
       "      <th>...</th>\n",
       "      <th>production_countries</th>\n",
       "      <th>status</th>\n",
       "      <th>popularity</th>\n",
       "      <th>vote_average</th>\n",
       "      <th>vote_count</th>\n",
       "      <th>keywords</th>\n",
       "      <th>cast</th>\n",
       "      <th>director</th>\n",
       "      <th>rating_count</th>\n",
       "      <th>mean_rating</th>\n",
       "    </tr>\n",
       "  </thead>\n",
       "  <tbody>\n",
       "    <tr>\n",
       "      <th>0</th>\n",
       "      <td>0</td>\n",
       "      <td>680</td>\n",
       "      <td>Pulp Fiction</td>\n",
       "      <td>1994</td>\n",
       "      <td>Saturday</td>\n",
       "      <td>['Thriller', 'Crime']</td>\n",
       "      <td>en</td>\n",
       "      <td>154.0</td>\n",
       "      <td>A burger-loving hit man, his philosophical par...</td>\n",
       "      <td>['Miramax Films', 'A Band Apart', 'Jersey Films']</td>\n",
       "      <td>...</td>\n",
       "      <td>['United States of America']</td>\n",
       "      <td>Released</td>\n",
       "      <td>140.950236</td>\n",
       "      <td>8.3</td>\n",
       "      <td>8670.0</td>\n",
       "      <td>['transporter', 'brothel', 'drug dealer', 'box...</td>\n",
       "      <td>['John Travolta', 'Samuel L. Jackson', 'Uma Th...</td>\n",
       "      <td>Quentin Tarantino</td>\n",
       "      <td>341.0</td>\n",
       "      <td>4.054252</td>\n",
       "    </tr>\n",
       "    <tr>\n",
       "      <th>1</th>\n",
       "      <td>1</td>\n",
       "      <td>235</td>\n",
       "      <td>Stand by Me</td>\n",
       "      <td>1986</td>\n",
       "      <td>Friday</td>\n",
       "      <td>['Crime', 'Drama']</td>\n",
       "      <td>en</td>\n",
       "      <td>89.0</td>\n",
       "      <td>After the death of a friend, a writer recounts...</td>\n",
       "      <td>['Columbia Pictures', 'Act III Communications'...</td>\n",
       "      <td>...</td>\n",
       "      <td>['United States of America']</td>\n",
       "      <td>Released</td>\n",
       "      <td>15.206957</td>\n",
       "      <td>7.8</td>\n",
       "      <td>1568.0</td>\n",
       "      <td>['based on novel', 'friendship', 'coming of ag...</td>\n",
       "      <td>['Wil Wheaton', 'River Phoenix', 'Corey Feldma...</td>\n",
       "      <td>Rob Reiner</td>\n",
       "      <td>324.0</td>\n",
       "      <td>4.256173</td>\n",
       "    </tr>\n",
       "    <tr>\n",
       "      <th>2</th>\n",
       "      <td>2</td>\n",
       "      <td>640</td>\n",
       "      <td>Catch Me If You Can</td>\n",
       "      <td>2002</td>\n",
       "      <td>Wednesday</td>\n",
       "      <td>['Drama', 'Crime']</td>\n",
       "      <td>en</td>\n",
       "      <td>141.0</td>\n",
       "      <td>A true story about Frank Abagnale Jr. who, bef...</td>\n",
       "      <td>['Kemp Company', 'Splendid Pictures', 'Parkes/...</td>\n",
       "      <td>...</td>\n",
       "      <td>['United States of America']</td>\n",
       "      <td>Released</td>\n",
       "      <td>19.833077</td>\n",
       "      <td>7.7</td>\n",
       "      <td>3917.0</td>\n",
       "      <td>['con man', 'biography', 'fbi agent', 'overhea...</td>\n",
       "      <td>['Leonardo DiCaprio', 'Tom Hanks', 'Christophe...</td>\n",
       "      <td>Steven Spielberg</td>\n",
       "      <td>311.0</td>\n",
       "      <td>4.487138</td>\n",
       "    </tr>\n",
       "    <tr>\n",
       "      <th>3</th>\n",
       "      <td>3</td>\n",
       "      <td>74</td>\n",
       "      <td>War of the Worlds</td>\n",
       "      <td>2005</td>\n",
       "      <td>Tuesday</td>\n",
       "      <td>['Adventure', 'Thriller', 'Science Fiction']</td>\n",
       "      <td>en</td>\n",
       "      <td>116.0</td>\n",
       "      <td>Ray Ferrier is a divorced dockworker and less-...</td>\n",
       "      <td>['Paramount Pictures', 'DreamWorks SKG', 'Crui...</td>\n",
       "      <td>...</td>\n",
       "      <td>['United States of America']</td>\n",
       "      <td>Released</td>\n",
       "      <td>19.929377</td>\n",
       "      <td>6.2</td>\n",
       "      <td>2397.0</td>\n",
       "      <td>['post traumatic stress  disorder', 'new jerse...</td>\n",
       "      <td>['Tom Cruise', 'Dakota Fanning', 'Miranda Otto...</td>\n",
       "      <td>Steven Spielberg</td>\n",
       "      <td>304.0</td>\n",
       "      <td>4.138158</td>\n",
       "    </tr>\n",
       "    <tr>\n",
       "      <th>4</th>\n",
       "      <td>4</td>\n",
       "      <td>281338</td>\n",
       "      <td>War for the Planet of the Apes</td>\n",
       "      <td>2017</td>\n",
       "      <td>Tuesday</td>\n",
       "      <td>['Drama', 'Science Fiction', 'War']</td>\n",
       "      <td>en</td>\n",
       "      <td>140.0</td>\n",
       "      <td>Caesar and his apes are forced into a deadly c...</td>\n",
       "      <td>['Chernin Entertainment']</td>\n",
       "      <td>...</td>\n",
       "      <td>['Canada', 'United States of America']</td>\n",
       "      <td>Released</td>\n",
       "      <td>146.161786</td>\n",
       "      <td>6.7</td>\n",
       "      <td>1675.0</td>\n",
       "      <td>['based on novel', 'sequel', 'talking animal',...</td>\n",
       "      <td>['Andy Serkis', 'Woody Harrelson', 'Steve Zahn...</td>\n",
       "      <td>Matt Reeves</td>\n",
       "      <td>291.0</td>\n",
       "      <td>4.221649</td>\n",
       "    </tr>\n",
       "  </tbody>\n",
       "</table>\n",
       "<p>5 rows × 22 columns</p>\n",
       "</div>"
      ],
      "text/plain": [
       "   index  tmdbId                           title release_year release_day  \\\n",
       "0      0     680                    Pulp Fiction         1994    Saturday   \n",
       "1      1     235                     Stand by Me         1986      Friday   \n",
       "2      2     640             Catch Me If You Can         2002   Wednesday   \n",
       "3      3      74               War of the Worlds         2005     Tuesday   \n",
       "4      4  281338  War for the Planet of the Apes         2017     Tuesday   \n",
       "\n",
       "                                         genres original_language  runtime  \\\n",
       "0                         ['Thriller', 'Crime']                en    154.0   \n",
       "1                            ['Crime', 'Drama']                en     89.0   \n",
       "2                            ['Drama', 'Crime']                en    141.0   \n",
       "3  ['Adventure', 'Thriller', 'Science Fiction']                en    116.0   \n",
       "4           ['Drama', 'Science Fiction', 'War']                en    140.0   \n",
       "\n",
       "                                             content  \\\n",
       "0  A burger-loving hit man, his philosophical par...   \n",
       "1  After the death of a friend, a writer recounts...   \n",
       "2  A true story about Frank Abagnale Jr. who, bef...   \n",
       "3  Ray Ferrier is a divorced dockworker and less-...   \n",
       "4  Caesar and his apes are forced into a deadly c...   \n",
       "\n",
       "                                production_companies  ...  \\\n",
       "0  ['Miramax Films', 'A Band Apart', 'Jersey Films']  ...   \n",
       "1  ['Columbia Pictures', 'Act III Communications'...  ...   \n",
       "2  ['Kemp Company', 'Splendid Pictures', 'Parkes/...  ...   \n",
       "3  ['Paramount Pictures', 'DreamWorks SKG', 'Crui...  ...   \n",
       "4                          ['Chernin Entertainment']  ...   \n",
       "\n",
       "                     production_countries    status  popularity vote_average  \\\n",
       "0            ['United States of America']  Released  140.950236          8.3   \n",
       "1            ['United States of America']  Released   15.206957          7.8   \n",
       "2            ['United States of America']  Released   19.833077          7.7   \n",
       "3            ['United States of America']  Released   19.929377          6.2   \n",
       "4  ['Canada', 'United States of America']  Released  146.161786          6.7   \n",
       "\n",
       "   vote_count                                           keywords  \\\n",
       "0      8670.0  ['transporter', 'brothel', 'drug dealer', 'box...   \n",
       "1      1568.0  ['based on novel', 'friendship', 'coming of ag...   \n",
       "2      3917.0  ['con man', 'biography', 'fbi agent', 'overhea...   \n",
       "3      2397.0  ['post traumatic stress  disorder', 'new jerse...   \n",
       "4      1675.0  ['based on novel', 'sequel', 'talking animal',...   \n",
       "\n",
       "                                                cast           director  \\\n",
       "0  ['John Travolta', 'Samuel L. Jackson', 'Uma Th...  Quentin Tarantino   \n",
       "1  ['Wil Wheaton', 'River Phoenix', 'Corey Feldma...         Rob Reiner   \n",
       "2  ['Leonardo DiCaprio', 'Tom Hanks', 'Christophe...   Steven Spielberg   \n",
       "3  ['Tom Cruise', 'Dakota Fanning', 'Miranda Otto...   Steven Spielberg   \n",
       "4  ['Andy Serkis', 'Woody Harrelson', 'Steve Zahn...        Matt Reeves   \n",
       "\n",
       "  rating_count mean_rating  \n",
       "0        341.0    4.054252  \n",
       "1        324.0    4.256173  \n",
       "2        311.0    4.487138  \n",
       "3        304.0    4.138158  \n",
       "4        291.0    4.221649  \n",
       "\n",
       "[5 rows x 22 columns]"
      ]
     },
     "execution_count": 41,
     "metadata": {},
     "output_type": "execute_result"
    }
   ],
   "source": [
    "data.head()"
   ]
  },
  {
   "cell_type": "code",
   "execution_count": 42,
   "id": "c70c0dcd",
   "metadata": {},
   "outputs": [
    {
     "name": "stdout",
     "output_type": "stream",
     "text": [
      "<class 'pandas.core.frame.DataFrame'>\n",
      "RangeIndex: 45430 entries, 0 to 45429\n",
      "Data columns (total 22 columns):\n",
      " #   Column                Non-Null Count  Dtype  \n",
      "---  ------                --------------  -----  \n",
      " 0   index                 45430 non-null  int64  \n",
      " 1   tmdbId                45430 non-null  int64  \n",
      " 2   title                 45430 non-null  object \n",
      " 3   release_year          45430 non-null  object \n",
      " 4   release_day           45430 non-null  object \n",
      " 5   genres                45430 non-null  object \n",
      " 6   original_language     45419 non-null  object \n",
      " 7   runtime               45430 non-null  float64\n",
      " 8   content               44484 non-null  object \n",
      " 9   production_companies  45430 non-null  object \n",
      " 10  budget                45430 non-null  int64  \n",
      " 11  revenue               45430 non-null  float64\n",
      " 12  production_countries  45430 non-null  object \n",
      " 13  status                45430 non-null  object \n",
      " 14  popularity            45430 non-null  float64\n",
      " 15  vote_average          45430 non-null  float64\n",
      " 16  vote_count            45430 non-null  float64\n",
      " 17  keywords              45430 non-null  object \n",
      " 18  cast                  45430 non-null  object \n",
      " 19  director              45430 non-null  object \n",
      " 20  rating_count          45430 non-null  float64\n",
      " 21  mean_rating           45430 non-null  float64\n",
      "dtypes: float64(7), int64(3), object(12)\n",
      "memory usage: 7.6+ MB\n"
     ]
    }
   ],
   "source": [
    "data.info()"
   ]
  },
  {
   "cell_type": "code",
   "execution_count": 76,
   "id": "77227104",
   "metadata": {},
   "outputs": [
    {
     "data": {
      "text/plain": [
       "Text(0.5, 1.0, 'votes')"
      ]
     },
     "execution_count": 76,
     "metadata": {},
     "output_type": "execute_result"
    },
    {
     "data": {
      "image/png": "[encoded data removed]",
      "text/plain": [
       "<Figure size 432x288 with 12 Axes>"
      ]
     },
     "metadata": {
      "needs_background": "light"
     },
     "output_type": "display_data"
    }
   ],
   "source": [
    "data.hist(grid=False, bins=range(0,55,5))\n",
    "plt.xlabel('vote_average')\n",
    "plt.ylabel('No.of votes')\n",
    "plt.title('votes')"
   ]
  },
  {
   "cell_type": "code",
   "execution_count": 79,
   "id": "a3b5a9e7",
   "metadata": {},
   "outputs": [
    {
     "data": {
      "text/plain": [
       "Text(0.5, 1.0, 'popularity')"
      ]
     },
     "execution_count": 79,
     "metadata": {},
     "output_type": "execute_result"
    },
    {
     "data": {
      "image/png": "[encoded data removed]",
      "text/plain": [
       "<Figure size 432x288 with 12 Axes>"
      ]
     },
     "metadata": {
      "needs_background": "light"
     },
     "output_type": "display_data"
    }
   ],
   "source": [
    "data.hist()\n",
    "plt.xlabel('popularity')\n",
    "plt.ylabel('rating_count')\n",
    "plt.title('popularity')"
   ]
  },
  {
   "cell_type": "markdown",
   "id": "f1d9cef8",
   "metadata": {},
   "source": [
    "Using weighted average method based on votings and popularity "
   ]
  },
  {
   "cell_type": "code",
   "execution_count": 43,
   "id": "1bd58570",
   "metadata": {},
   "outputs": [
    {
     "data": {
      "text/plain": [
       "(4550, 22)"
      ]
     },
     "execution_count": 43,
     "metadata": {},
     "output_type": "execute_result"
    }
   ],
   "source": [
    "C= data['vote_average'].mean()\n",
    "m= data['vote_count'].quantile(0.9)\n",
    "q_movies = data.loc[data['vote_count'] >= m]\n",
    "q_movies.shape"
   ]
  },
  {
   "cell_type": "code",
   "execution_count": 44,
   "id": "16aba09f",
   "metadata": {},
   "outputs": [
    {
     "data": {
      "text/html": [
       "<div>\n",
       "<style scoped>\n",
       "    .dataframe tbody tr th:only-of-type {\n",
       "        vertical-align: middle;\n",
       "    }\n",
       "\n",
       "    .dataframe tbody tr th {\n",
       "        vertical-align: top;\n",
       "    }\n",
       "\n",
       "    .dataframe thead th {\n",
       "        text-align: right;\n",
       "    }\n",
       "</style>\n",
       "<table border=\"1\" class=\"dataframe\">\n",
       "  <thead>\n",
       "    <tr style=\"text-align: right;\">\n",
       "      <th></th>\n",
       "      <th>title</th>\n",
       "      <th>vote_count</th>\n",
       "      <th>vote_average</th>\n",
       "      <th>rating_count</th>\n",
       "    </tr>\n",
       "  </thead>\n",
       "  <tbody>\n",
       "    <tr>\n",
       "      <th>0</th>\n",
       "      <td>Pulp Fiction</td>\n",
       "      <td>8670.0</td>\n",
       "      <td>8.3</td>\n",
       "      <td>341.0</td>\n",
       "    </tr>\n",
       "    <tr>\n",
       "      <th>1</th>\n",
       "      <td>Stand by Me</td>\n",
       "      <td>1568.0</td>\n",
       "      <td>7.8</td>\n",
       "      <td>324.0</td>\n",
       "    </tr>\n",
       "    <tr>\n",
       "      <th>2</th>\n",
       "      <td>Catch Me If You Can</td>\n",
       "      <td>3917.0</td>\n",
       "      <td>7.7</td>\n",
       "      <td>311.0</td>\n",
       "    </tr>\n",
       "    <tr>\n",
       "      <th>3</th>\n",
       "      <td>War of the Worlds</td>\n",
       "      <td>2397.0</td>\n",
       "      <td>6.2</td>\n",
       "      <td>304.0</td>\n",
       "    </tr>\n",
       "    <tr>\n",
       "      <th>4</th>\n",
       "      <td>War for the Planet of the Apes</td>\n",
       "      <td>1675.0</td>\n",
       "      <td>6.7</td>\n",
       "      <td>291.0</td>\n",
       "    </tr>\n",
       "    <tr>\n",
       "      <th>5</th>\n",
       "      <td>The Perfect Storm</td>\n",
       "      <td>609.0</td>\n",
       "      <td>6.2</td>\n",
       "      <td>274.0</td>\n",
       "    </tr>\n",
       "    <tr>\n",
       "      <th>6</th>\n",
       "      <td>Moneyball</td>\n",
       "      <td>1409.0</td>\n",
       "      <td>7.0</td>\n",
       "      <td>259.0</td>\n",
       "    </tr>\n",
       "    <tr>\n",
       "      <th>7</th>\n",
       "      <td>The Great Escape</td>\n",
       "      <td>731.0</td>\n",
       "      <td>7.8</td>\n",
       "      <td>247.0</td>\n",
       "    </tr>\n",
       "    <tr>\n",
       "      <th>8</th>\n",
       "      <td>The Jungle Book</td>\n",
       "      <td>2977.0</td>\n",
       "      <td>6.7</td>\n",
       "      <td>244.0</td>\n",
       "    </tr>\n",
       "    <tr>\n",
       "      <th>9</th>\n",
       "      <td>Equals</td>\n",
       "      <td>386.0</td>\n",
       "      <td>5.9</td>\n",
       "      <td>237.0</td>\n",
       "    </tr>\n",
       "  </tbody>\n",
       "</table>\n",
       "</div>"
      ],
      "text/plain": [
       "                            title  vote_count  vote_average  rating_count\n",
       "0                    Pulp Fiction      8670.0           8.3         341.0\n",
       "1                     Stand by Me      1568.0           7.8         324.0\n",
       "2             Catch Me If You Can      3917.0           7.7         311.0\n",
       "3               War of the Worlds      2397.0           6.2         304.0\n",
       "4  War for the Planet of the Apes      1675.0           6.7         291.0\n",
       "5               The Perfect Storm       609.0           6.2         274.0\n",
       "6                       Moneyball      1409.0           7.0         259.0\n",
       "7                The Great Escape       731.0           7.8         247.0\n",
       "8                 The Jungle Book      2977.0           6.7         244.0\n",
       "9                          Equals       386.0           5.9         237.0"
      ]
     },
     "execution_count": 44,
     "metadata": {},
     "output_type": "execute_result"
    }
   ],
   "source": [
    "def weighted_rating(x, m=m, C=C):\n",
    "    v = x['vote_count']\n",
    "    R = x['vote_average']\n",
    "    return (v/(v+m) * R) + (m/(m+v) * C)\n",
    "    \n",
    " \n",
    "    q_movies['rating_count'] = q_movies.apply(weighted_rating, axis=1)\n",
    " \n",
    " \n",
    "#Sorting movies based on score calculated above\n",
    "q_movies = q_movies.sort_values('rating_count', ascending=False)\n",
    "\n",
    "#Printing the top 15 movies\n",
    "q_movies[['title', 'vote_count', 'vote_average', 'rating_count']].reset_index(drop=True).head(10)"
   ]
  },
  {
   "cell_type": "code",
   "execution_count": 45,
   "id": "0ab558df",
   "metadata": {
    "scrolled": true
   },
   "outputs": [
    {
     "data": {
      "text/plain": [
       "Text(0.5, 1.0, 'Popular Movies')"
      ]
     },
     "execution_count": 45,
     "metadata": {},
     "output_type": "execute_result"
    },
    {
     "data": {
      "image/png": "[encoded data removed]",
      "text/plain": [
       "<Figure size 864x288 with 1 Axes>"
      ]
     },
     "metadata": {},
     "output_type": "display_data"
    }
   ],
   "source": [
    "pop= data.sort_values('popularity', ascending=False)\n",
    "import matplotlib.pyplot as plt\n",
    "plt.figure(figsize=(12,4))\n",
    "\n",
    "plt.barh(pop['title'].head(6),pop['popularity'].head(6), align='center',\n",
    "        color='skyblue')\n",
    "plt.gca().invert_yaxis()\n",
    "plt.xlabel(\"Popularity\")\n",
    "plt.title(\"Popular Movies\")"
   ]
  },
  {
   "cell_type": "markdown",
   "id": "0497be0a",
   "metadata": {},
   "source": [
    "Another method to create popularity based recommender system using ratings"
   ]
  },
  {
   "cell_type": "code",
   "execution_count": 52,
   "id": "df8e8321",
   "metadata": {},
   "outputs": [],
   "source": [
    "new_data = data[['tmdbId','title','rating_count']]"
   ]
  },
  {
   "cell_type": "code",
   "execution_count": 53,
   "id": "f7a366f8",
   "metadata": {},
   "outputs": [
    {
     "data": {
      "text/html": [
       "<div>\n",
       "<style scoped>\n",
       "    .dataframe tbody tr th:only-of-type {\n",
       "        vertical-align: middle;\n",
       "    }\n",
       "\n",
       "    .dataframe tbody tr th {\n",
       "        vertical-align: top;\n",
       "    }\n",
       "\n",
       "    .dataframe thead th {\n",
       "        text-align: right;\n",
       "    }\n",
       "</style>\n",
       "<table border=\"1\" class=\"dataframe\">\n",
       "  <thead>\n",
       "    <tr style=\"text-align: right;\">\n",
       "      <th></th>\n",
       "      <th>tmdbId</th>\n",
       "      <th>title</th>\n",
       "      <th>rating_count</th>\n",
       "    </tr>\n",
       "  </thead>\n",
       "  <tbody>\n",
       "    <tr>\n",
       "      <th>0</th>\n",
       "      <td>680</td>\n",
       "      <td>Pulp Fiction</td>\n",
       "      <td>341.0</td>\n",
       "    </tr>\n",
       "    <tr>\n",
       "      <th>1</th>\n",
       "      <td>235</td>\n",
       "      <td>Stand by Me</td>\n",
       "      <td>324.0</td>\n",
       "    </tr>\n",
       "    <tr>\n",
       "      <th>2</th>\n",
       "      <td>640</td>\n",
       "      <td>Catch Me If You Can</td>\n",
       "      <td>311.0</td>\n",
       "    </tr>\n",
       "    <tr>\n",
       "      <th>3</th>\n",
       "      <td>74</td>\n",
       "      <td>War of the Worlds</td>\n",
       "      <td>304.0</td>\n",
       "    </tr>\n",
       "    <tr>\n",
       "      <th>4</th>\n",
       "      <td>281338</td>\n",
       "      <td>War for the Planet of the Apes</td>\n",
       "      <td>291.0</td>\n",
       "    </tr>\n",
       "  </tbody>\n",
       "</table>\n",
       "</div>"
      ],
      "text/plain": [
       "   tmdbId                           title  rating_count\n",
       "0     680                    Pulp Fiction         341.0\n",
       "1     235                     Stand by Me         324.0\n",
       "2     640             Catch Me If You Can         311.0\n",
       "3      74               War of the Worlds         304.0\n",
       "4  281338  War for the Planet of the Apes         291.0"
      ]
     },
     "execution_count": 53,
     "metadata": {},
     "output_type": "execute_result"
    }
   ],
   "source": [
    "new_data.head()"
   ]
  },
  {
   "cell_type": "code",
   "execution_count": 63,
   "id": "b9372778",
   "metadata": {},
   "outputs": [],
   "source": [
    "def popularity(train,title,ids):\n",
    "    train_data_grouped = train.groupby({title})[ids].count().reset_index()\n",
    "    train_data_sort = train_data_grouped.sort_values(['popularity',title], ascending = [0,5])\n",
    "    train_data_sort['Rank'] = train_data_sort['popularity'].rank(ascending = 0, method='first')\n",
    "    popularity_recommendations = train_data_sort.head(10)\n",
    "    return popularity_recommendations"
   ]
  },
  {
   "cell_type": "code",
   "execution_count": 65,
   "id": "b589d6df",
   "metadata": {},
   "outputs": [
    {
     "ename": "TypeError",
     "evalue": "popularity() missing 1 required positional argument: 'ids'",
     "output_type": "error",
     "traceback": [
      "\u001b[1;31m---------------------------------------------------------------------------\u001b[0m",
      "\u001b[1;31mTypeError\u001b[0m                                 Traceback (most recent call last)",
      "\u001b[1;32m~\\AppData\\Local\\Temp/ipykernel_9772/4166917340.py\u001b[0m in \u001b[0;36m<module>\u001b[1;34m\u001b[0m\n\u001b[1;32m----> 1\u001b[1;33m \u001b[0mpopularity\u001b[0m\u001b[1;33m(\u001b[0m\u001b[0mnew_data\u001b[0m\u001b[1;33m,\u001b[0m\u001b[1;34m'title'\u001b[0m\u001b[1;33m)\u001b[0m\u001b[1;33m\u001b[0m\u001b[1;33m\u001b[0m\u001b[0m\n\u001b[0m",
      "\u001b[1;31mTypeError\u001b[0m: popularity() missing 1 required positional argument: 'ids'"
     ]
    }
   ],
   "source": [
    "popularity(new_data,'title')"
   ]
  },
  {
   "cell_type": "code",
   "execution_count": 66,
   "id": "9d639a0c",
   "metadata": {},
   "outputs": [],
   "source": [
    "ratings = pd.read_csv('C:/Users/neha1/Desktop/Innomatics/Movie Rec Sys/ratings_small.csv')"
   ]
  },
  {
   "cell_type": "code",
   "execution_count": 67,
   "id": "c5eaaffa",
   "metadata": {},
   "outputs": [
    {
     "data": {
      "text/html": [
       "<div>\n",
       "<style scoped>\n",
       "    .dataframe tbody tr th:only-of-type {\n",
       "        vertical-align: middle;\n",
       "    }\n",
       "\n",
       "    .dataframe tbody tr th {\n",
       "        vertical-align: top;\n",
       "    }\n",
       "\n",
       "    .dataframe thead th {\n",
       "        text-align: right;\n",
       "    }\n",
       "</style>\n",
       "<table border=\"1\" class=\"dataframe\">\n",
       "  <thead>\n",
       "    <tr style=\"text-align: right;\">\n",
       "      <th></th>\n",
       "      <th>userId</th>\n",
       "      <th>movieId</th>\n",
       "      <th>rating</th>\n",
       "      <th>timestamp</th>\n",
       "    </tr>\n",
       "  </thead>\n",
       "  <tbody>\n",
       "    <tr>\n",
       "      <th>0</th>\n",
       "      <td>1</td>\n",
       "      <td>31</td>\n",
       "      <td>2.5</td>\n",
       "      <td>1260759144</td>\n",
       "    </tr>\n",
       "    <tr>\n",
       "      <th>1</th>\n",
       "      <td>1</td>\n",
       "      <td>1029</td>\n",
       "      <td>3.0</td>\n",
       "      <td>1260759179</td>\n",
       "    </tr>\n",
       "    <tr>\n",
       "      <th>2</th>\n",
       "      <td>1</td>\n",
       "      <td>1061</td>\n",
       "      <td>3.0</td>\n",
       "      <td>1260759182</td>\n",
       "    </tr>\n",
       "    <tr>\n",
       "      <th>3</th>\n",
       "      <td>1</td>\n",
       "      <td>1129</td>\n",
       "      <td>2.0</td>\n",
       "      <td>1260759185</td>\n",
       "    </tr>\n",
       "    <tr>\n",
       "      <th>4</th>\n",
       "      <td>1</td>\n",
       "      <td>1172</td>\n",
       "      <td>4.0</td>\n",
       "      <td>1260759205</td>\n",
       "    </tr>\n",
       "  </tbody>\n",
       "</table>\n",
       "</div>"
      ],
      "text/plain": [
       "   userId  movieId  rating   timestamp\n",
       "0       1       31     2.5  1260759144\n",
       "1       1     1029     3.0  1260759179\n",
       "2       1     1061     3.0  1260759182\n",
       "3       1     1129     2.0  1260759185\n",
       "4       1     1172     4.0  1260759205"
      ]
     },
     "execution_count": 67,
     "metadata": {},
     "output_type": "execute_result"
    }
   ],
   "source": [
    "ratings.head()"
   ]
  },
  {
   "cell_type": "code",
   "execution_count": 68,
   "id": "cebf577a",
   "metadata": {},
   "outputs": [
    {
     "name": "stdout",
     "output_type": "stream",
     "text": [
      "<class 'pandas.core.frame.DataFrame'>\n",
      "RangeIndex: 100004 entries, 0 to 100003\n",
      "Data columns (total 4 columns):\n",
      " #   Column     Non-Null Count   Dtype  \n",
      "---  ------     --------------   -----  \n",
      " 0   userId     100004 non-null  int64  \n",
      " 1   movieId    100004 non-null  int64  \n",
      " 2   rating     100004 non-null  float64\n",
      " 3   timestamp  100004 non-null  int64  \n",
      "dtypes: float64(1), int64(3)\n",
      "memory usage: 3.1 MB\n"
     ]
    }
   ],
   "source": [
    "ratings.info()"
   ]
  },
  {
   "cell_type": "code",
   "execution_count": 69,
   "id": "f6ff2ec8",
   "metadata": {},
   "outputs": [
    {
     "data": {
      "text/html": [
       "<div>\n",
       "<style scoped>\n",
       "    .dataframe tbody tr th:only-of-type {\n",
       "        vertical-align: middle;\n",
       "    }\n",
       "\n",
       "    .dataframe tbody tr th {\n",
       "        vertical-align: top;\n",
       "    }\n",
       "\n",
       "    .dataframe thead th {\n",
       "        text-align: right;\n",
       "    }\n",
       "</style>\n",
       "<table border=\"1\" class=\"dataframe\">\n",
       "  <thead>\n",
       "    <tr style=\"text-align: right;\">\n",
       "      <th></th>\n",
       "      <th>userId</th>\n",
       "      <th>movieId</th>\n",
       "      <th>rating</th>\n",
       "      <th>timestamp</th>\n",
       "    </tr>\n",
       "  </thead>\n",
       "  <tbody>\n",
       "    <tr>\n",
       "      <th>count</th>\n",
       "      <td>100004.000000</td>\n",
       "      <td>100004.000000</td>\n",
       "      <td>100004.000000</td>\n",
       "      <td>1.000040e+05</td>\n",
       "    </tr>\n",
       "    <tr>\n",
       "      <th>mean</th>\n",
       "      <td>347.011310</td>\n",
       "      <td>12548.664363</td>\n",
       "      <td>3.543608</td>\n",
       "      <td>1.129639e+09</td>\n",
       "    </tr>\n",
       "    <tr>\n",
       "      <th>std</th>\n",
       "      <td>195.163838</td>\n",
       "      <td>26369.198969</td>\n",
       "      <td>1.058064</td>\n",
       "      <td>1.916858e+08</td>\n",
       "    </tr>\n",
       "    <tr>\n",
       "      <th>min</th>\n",
       "      <td>1.000000</td>\n",
       "      <td>1.000000</td>\n",
       "      <td>0.500000</td>\n",
       "      <td>7.896520e+08</td>\n",
       "    </tr>\n",
       "    <tr>\n",
       "      <th>25%</th>\n",
       "      <td>182.000000</td>\n",
       "      <td>1028.000000</td>\n",
       "      <td>3.000000</td>\n",
       "      <td>9.658478e+08</td>\n",
       "    </tr>\n",
       "    <tr>\n",
       "      <th>50%</th>\n",
       "      <td>367.000000</td>\n",
       "      <td>2406.500000</td>\n",
       "      <td>4.000000</td>\n",
       "      <td>1.110422e+09</td>\n",
       "    </tr>\n",
       "    <tr>\n",
       "      <th>75%</th>\n",
       "      <td>520.000000</td>\n",
       "      <td>5418.000000</td>\n",
       "      <td>4.000000</td>\n",
       "      <td>1.296192e+09</td>\n",
       "    </tr>\n",
       "    <tr>\n",
       "      <th>max</th>\n",
       "      <td>671.000000</td>\n",
       "      <td>163949.000000</td>\n",
       "      <td>5.000000</td>\n",
       "      <td>1.476641e+09</td>\n",
       "    </tr>\n",
       "  </tbody>\n",
       "</table>\n",
       "</div>"
      ],
      "text/plain": [
       "              userId        movieId         rating     timestamp\n",
       "count  100004.000000  100004.000000  100004.000000  1.000040e+05\n",
       "mean      347.011310   12548.664363       3.543608  1.129639e+09\n",
       "std       195.163838   26369.198969       1.058064  1.916858e+08\n",
       "min         1.000000       1.000000       0.500000  7.896520e+08\n",
       "25%       182.000000    1028.000000       3.000000  9.658478e+08\n",
       "50%       367.000000    2406.500000       4.000000  1.110422e+09\n",
       "75%       520.000000    5418.000000       4.000000  1.296192e+09\n",
       "max       671.000000  163949.000000       5.000000  1.476641e+09"
      ]
     },
     "execution_count": 69,
     "metadata": {},
     "output_type": "execute_result"
    }
   ],
   "source": [
    "ratings.describe()"
   ]
  },
  {
   "cell_type": "code",
   "execution_count": null,
   "id": "87020001",
   "metadata": {},
   "outputs": [],
   "source": []
  }
 ],
 "metadata": {
  "kernelspec": {
   "display_name": "Python 3 (ipykernel)",
   "language": "python",
   "name": "python3"
  },
  "language_info": {
   "codemirror_mode": {
    "name": "ipython",
    "version": 3
   },
   "file_extension": ".py",
   "mimetype": "text/x-python",
   "name": "python",
   "nbconvert_exporter": "python",
   "pygments_lexer": "ipython3",
   "version": "3.9.7"
  }
 },
 "nbformat": 4,
 "nbformat_minor": 5
}
